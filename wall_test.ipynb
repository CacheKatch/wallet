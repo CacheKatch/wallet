{
 "metadata": {
  "language_info": {
   "codemirror_mode": {
    "name": "ipython",
    "version": 3
   },
   "file_extension": ".py",
   "mimetype": "text/x-python",
   "name": "python",
   "nbconvert_exporter": "python",
   "pygments_lexer": "ipython3",
   "version": "3.7.9-final"
  },
  "orig_nbformat": 2,
  "kernelspec": {
   "name": "python3",
   "display_name": "Python 3.7.9 64-bit ('ethereum': conda)",
   "metadata": {
    "interpreter": {
     "hash": "feabcdad2880a12371d0452ba9bbac503ceb2166a3b988915bc674916ab3c265"
    }
   }
  }
 },
 "nbformat": 4,
 "nbformat_minor": 2,
 "cells": [
  {
   "cell_type": "code",
   "execution_count": 1,
   "metadata": {},
   "outputs": [],
   "source": [
    "from constants import BTC\n",
    "from constants import ETH\n",
    "from constants import BTCTEST\n",
    "from constants import LTC"
   ]
  },
  {
   "cell_type": "code",
   "execution_count": 2,
   "metadata": {},
   "outputs": [],
   "source": [
    "import os\n",
    "from dotenv import load_dotenv"
   ]
  },
  {
   "cell_type": "code",
   "execution_count": 3,
   "metadata": {},
   "outputs": [],
   "source": [
    "import subprocess\n",
    "import json"
   ]
  },
  {
   "cell_type": "code",
   "execution_count": 4,
   "metadata": {},
   "outputs": [
    {
     "output_type": "execute_result",
     "data": {
      "text/plain": [
       "True"
      ]
     },
     "metadata": {},
     "execution_count": 4
    }
   ],
   "source": [
    "load_dotenv()"
   ]
  },
  {
   "cell_type": "code",
   "execution_count": 5,
   "metadata": {},
   "outputs": [],
   "source": [
    "mnemonic = os.getenv(\"MNEMONIC\",\"\"\"rough pull enemy remove resource toward army okay slender rapid uphold segment\"\"\")"
   ]
  },
  {
   "cell_type": "code",
   "execution_count": 6,
   "metadata": {},
   "outputs": [
    {
     "output_type": "stream",
     "name": "stdout",
     "text": [
      "evidence woman margin elephant such worry net romance grunt estate wall bring eternal inner salute\n"
     ]
    }
   ],
   "source": [
    "print(mnemonic)"
   ]
  },
  {
   "cell_type": "code",
   "execution_count": 7,
   "metadata": {},
   "outputs": [
    {
     "output_type": "execute_result",
     "data": {
      "text/plain": [
       "1"
      ]
     },
     "metadata": {},
     "execution_count": 7
    }
   ],
   "source": [
    "command = \"\"\"./hd-wallet-derive/hd-wallet-derive.php -g --mnemonic=\"evidence woman margin elephant such worry net romance grunt estate wall bring eternal inner salute\" --numderive=3 --format=json\"\"\"\n",
    "p =subprocess.Popen(command, stdout=subprocess.PIPE, shell=True)\n",
    "(output, err) =p.communicate()\n",
    "p.wait()"
   ]
  },
  {
   "cell_type": "code",
   "execution_count": 8,
   "metadata": {},
   "outputs": [
    {
     "output_type": "stream",
     "name": "stdout",
     "text": [
      "b''\n"
     ]
    }
   ],
   "source": [
    "print(output)"
   ]
  },
  {
   "cell_type": "code",
   "execution_count": 9,
   "metadata": {},
   "outputs": [
    {
     "output_type": "execute_result",
     "data": {
      "text/plain": [
       "1"
      ]
     },
     "metadata": {},
     "execution_count": 9
    }
   ],
   "source": [
    "command = './derive -g --mnemonic=\"rough pull enemy remove resource toward army okay slender rapid uphold segment\" --format=json'\n",
    "p =subprocess.Popen(command, stdout=subprocess.PIPE, shell=True)\n",
    "(output, err) =p.communicate()\n",
    "p.wait()"
   ]
  },
  {
   "cell_type": "code",
   "execution_count": 10,
   "metadata": {},
   "outputs": [
    {
     "output_type": "stream",
     "name": "stdout",
     "text": [
      "b''\n"
     ]
    }
   ],
   "source": [
    "print(output)"
   ]
  },
  {
   "cell_type": "code",
   "execution_count": 11,
   "metadata": {},
   "outputs": [],
   "source": [
    "coin_name=ETH"
   ]
  },
  {
   "cell_type": "code",
   "execution_count": 12,
   "metadata": {},
   "outputs": [
    {
     "output_type": "execute_result",
     "data": {
      "text/plain": [
       "0"
      ]
     },
     "metadata": {},
     "execution_count": 12
    }
   ],
   "source": [
    "command = f'php derive -g --mnemonic=\"{mnemonic}\" --cols=address,privkey,pubkey --numderive=3 --coin={coin_name} --format=json'\n",
    "p =subprocess.Popen(command, stdout=subprocess.PIPE, shell=True)\n",
    "(output, err) =p.communicate()\n",
    "p.wait()"
   ]
  },
  {
   "cell_type": "code",
   "execution_count": 13,
   "metadata": {},
   "outputs": [
    {
     "output_type": "stream",
     "name": "stdout",
     "text": [
      "b'\\n[{\"address\":\"0xef7AF838023A8710F697fFc4C5AbcbDE8610234c\",\"privkey\":\"0x409229a3e6d2a00c67c48dc73f5ce61efb848c1faef8d4ad5009c6d300adab79\",\"pubkey\":\"03b524f4f021cd548dc8f13c65682339d5f3c53927c5549674660dfbd6fd11a7c2\"},{\"address\":\"0x7f42089f5a93Ae806592057E305a8DB23ed2424e\",\"privkey\":\"0x022f55d8ab08069d8154c4b6d6d04f7c9600149a4ccc6f128ddacc4c1b8efea3\",\"pubkey\":\"0345366d24decfbb87cbbf0c080ccebe0b866c00a36d2116aa0b6467bd9c42d31e\"},{\"address\":\"0x454453A0732CBE6c1009342E580Fd76a4F8EF1C7\",\"privkey\":\"0x3d1b7573a377fa6c48bb61c72408ca8f3c8164c5a03d905d08b54b97d42a813a\",\"pubkey\":\"0344f5b76e9508658eb447bb4b06af96f0b0a7fac5b3e3301511a938c6716a18b8\"}]'\n"
     ]
    }
   ],
   "source": [
    "print(output)"
   ]
  },
  {
   "cell_type": "code",
   "execution_count": 14,
   "metadata": {},
   "outputs": [],
   "source": [
    "def derive_wallets(coin_name, mnemonic=mnemonic ,numb_derive=3):\n",
    "    command = f'php derive -g --mnemonic=\"{mnemonic}\" --cols=address,privkey,pubkey --numderive={numb_derive} --coin={coin_name} --format=json'\n",
    "    p =subprocess.Popen(command, stdout=subprocess.PIPE, shell=True)\n",
    "    (output, err) =p.communicate()\n",
    "    p.wait()\n",
    "    keys = json.loads(output)\n",
    "    return keys"
   ]
  },
  {
   "cell_type": "code",
   "execution_count": 15,
   "metadata": {},
   "outputs": [
    {
     "output_type": "execute_result",
     "data": {
      "text/plain": [
       "[{'address': '0xef7AF838023A8710F697fFc4C5AbcbDE8610234c',\n",
       "  'privkey': '0x409229a3e6d2a00c67c48dc73f5ce61efb848c1faef8d4ad5009c6d300adab79',\n",
       "  'pubkey': '03b524f4f021cd548dc8f13c65682339d5f3c53927c5549674660dfbd6fd11a7c2'},\n",
       " {'address': '0x7f42089f5a93Ae806592057E305a8DB23ed2424e',\n",
       "  'privkey': '0x022f55d8ab08069d8154c4b6d6d04f7c9600149a4ccc6f128ddacc4c1b8efea3',\n",
       "  'pubkey': '0345366d24decfbb87cbbf0c080ccebe0b866c00a36d2116aa0b6467bd9c42d31e'},\n",
       " {'address': '0x454453A0732CBE6c1009342E580Fd76a4F8EF1C7',\n",
       "  'privkey': '0x3d1b7573a377fa6c48bb61c72408ca8f3c8164c5a03d905d08b54b97d42a813a',\n",
       "  'pubkey': '0344f5b76e9508658eb447bb4b06af96f0b0a7fac5b3e3301511a938c6716a18b8'}]"
      ]
     },
     "metadata": {},
     "execution_count": 15
    }
   ],
   "source": [
    "derive_wallets(coin_name)"
   ]
  },
  {
   "cell_type": "code",
   "execution_count": 16,
   "metadata": {},
   "outputs": [
    {
     "output_type": "execute_result",
     "data": {
      "text/plain": [
       "{'eth': [{'address': '0xef7AF838023A8710F697fFc4C5AbcbDE8610234c',\n",
       "   'privkey': '0x409229a3e6d2a00c67c48dc73f5ce61efb848c1faef8d4ad5009c6d300adab79',\n",
       "   'pubkey': '03b524f4f021cd548dc8f13c65682339d5f3c53927c5549674660dfbd6fd11a7c2'},\n",
       "  {'address': '0x7f42089f5a93Ae806592057E305a8DB23ed2424e',\n",
       "   'privkey': '0x022f55d8ab08069d8154c4b6d6d04f7c9600149a4ccc6f128ddacc4c1b8efea3',\n",
       "   'pubkey': '0345366d24decfbb87cbbf0c080ccebe0b866c00a36d2116aa0b6467bd9c42d31e'},\n",
       "  {'address': '0x454453A0732CBE6c1009342E580Fd76a4F8EF1C7',\n",
       "   'privkey': '0x3d1b7573a377fa6c48bb61c72408ca8f3c8164c5a03d905d08b54b97d42a813a',\n",
       "   'pubkey': '0344f5b76e9508658eb447bb4b06af96f0b0a7fac5b3e3301511a938c6716a18b8'}],\n",
       " 'btc-test': [{'address': 'n24H3Lv9ucMRfRTzqtjdasaqLaEJye6xFp',\n",
       "   'privkey': 'cNpcyt6bBwsVR5PtBPU3myYzHm8bgJe1dKkqz4BoaAPWEYPF1gQn',\n",
       "   'pubkey': '027fef5b69b03129c72be2bd913cd7d68ec7aa7dc264abc7dcb61a1424bdb18de7'},\n",
       "  {'address': 'mh42D47zZ5sAYBZeUKQw5yc4jPVHq9Kd1g',\n",
       "   'privkey': 'cNtNRuDWJcJfYxGZ8GCJVjq7xGzQ1gokMkALQuow3Wx3vvs7Z2Az',\n",
       "   'pubkey': '03470abca7d1c5109cfff70edb3849976229e81b3bb24e398e178537b18459ac5f'},\n",
       "  {'address': 'mo5x1hXmBbFPyp8j5Jw4JhWtZhwPuo72xA',\n",
       "   'privkey': 'cPxACwqy6ENY72Z9a2FAfsiJkpTKEaVZRU4XSJ3XSKa9zu9eeh1g',\n",
       "   'pubkey': '023455b0f2cdc34acbfa371ecf54b5538ace9dc88f43cb2dbcc2ed1a96542cd645'}],\n",
       " 'btc': [{'address': '1LqnfihkPPwZy19WFVX3dxudbaR9UpZjBU',\n",
       "   'privkey': 'KwKaUJSyaeqqzYSLhjs8XFqT8tpVvXVMQfSCy73jdFAWJCoztvuZ',\n",
       "   'pubkey': '02dacaa4c1adae44e7d77710783ff998b123311738f0666f335b8a0ad5ec34aadc'},\n",
       "  {'address': '1JnAQTkyxnGMQ2HVhw1AHxNMvmZWyFnXxi',\n",
       "   'privkey': 'KxSYCUYa9qJBC3CpAxqcbKhNzpy6fVvEgMJX73EUKu2ggLJyT5Eo',\n",
       "   'pubkey': '0340fe2b9a52a75bf966619c5df900e02325990e905e4182e4a72e5901503100f4'},\n",
       "  {'address': '1688uR4geU2BkZEK91NY4zh87gYvT9VEEc',\n",
       "   'privkey': 'L47scjscBLyy8Qidsmp1vaVMXNtsrZ39w4ACvw8B6cfrjmjsmp4i',\n",
       "   'pubkey': '0386c509c70badb5085f6812b3da21533a05e948b38b0a2fba47c1eeab2fa4ea5d'}],\n",
       " 'ltc': [{'address': 'LZWfJf3DJPQR6umfktHyKCXZQkpWAd8CkX',\n",
       "   'privkey': 'T4H13oamuDSz6pSbnRD3LKG5ZysDBz5V72TNJ2MVjdeEcuzakQR1',\n",
       "   'pubkey': '02b5598acd32b243a38a6feaa0abf893cbe8ee09b567c5c4c74445f82ba4016ae4'},\n",
       "  {'address': 'LZEk25JTdWYNe8pRatEG5JbrKLto1uQF8Z',\n",
       "   'privkey': 'T3Lg3AJJbHSetxd7svi2jzujV4pr1EZ2uGUAQBFnb8KfSAE6H7xc',\n",
       "   'pubkey': '0243458fcb44c23c1c0c6ad35cf024f869eb69d84781a3da7eeaad892093ff97f4'},\n",
       "  {'address': 'LKvqrYWvsX2fLfgUtRBJdEnaruKU4FkgUB',\n",
       "   'privkey': 'T5wGLdym9f5kZDUeoXYrSRirfc8cVNhsLQzHyHQorxPLnQmcnNJz',\n",
       "   'pubkey': '02a2149fd96a822169e1b3cb17f40f0a8450ac2cac5101e117efae5f77dc651e80'}]}"
      ]
     },
     "metadata": {},
     "execution_count": 16
    }
   ],
   "source": [
    "coins={\"eth\":derive_wallets(ETH),\n",
    "    \"btc-test\":derive_wallets(BTCTEST),\n",
    "    \"btc\":derive_wallets(BTC),\n",
    "    \"ltc\":derive_wallets(LTC)}\n",
    "\n",
    "coins\n"
   ]
  },
  {
   "cell_type": "code",
   "execution_count": 17,
   "metadata": {},
   "outputs": [
    {
     "output_type": "execute_result",
     "data": {
      "text/plain": [
       "[{'address': 'n24H3Lv9ucMRfRTzqtjdasaqLaEJye6xFp',\n",
       "  'privkey': 'cNpcyt6bBwsVR5PtBPU3myYzHm8bgJe1dKkqz4BoaAPWEYPF1gQn',\n",
       "  'pubkey': '027fef5b69b03129c72be2bd913cd7d68ec7aa7dc264abc7dcb61a1424bdb18de7'},\n",
       " {'address': 'mh42D47zZ5sAYBZeUKQw5yc4jPVHq9Kd1g',\n",
       "  'privkey': 'cNtNRuDWJcJfYxGZ8GCJVjq7xGzQ1gokMkALQuow3Wx3vvs7Z2Az',\n",
       "  'pubkey': '03470abca7d1c5109cfff70edb3849976229e81b3bb24e398e178537b18459ac5f'},\n",
       " {'address': 'mo5x1hXmBbFPyp8j5Jw4JhWtZhwPuo72xA',\n",
       "  'privkey': 'cPxACwqy6ENY72Z9a2FAfsiJkpTKEaVZRU4XSJ3XSKa9zu9eeh1g',\n",
       "  'pubkey': '023455b0f2cdc34acbfa371ecf54b5538ace9dc88f43cb2dbcc2ed1a96542cd645'}]"
      ]
     },
     "metadata": {},
     "execution_count": 17
    }
   ],
   "source": [
    "derive_wallets(BTCTEST)"
   ]
  },
  {
   "cell_type": "code",
   "execution_count": 18,
   "metadata": {},
   "outputs": [
    {
     "output_type": "stream",
     "name": "stdout",
     "text": [
      "{'eth': [{'address': '0xef7AF838023A8710F697fFc4C5AbcbDE8610234c', 'privkey': '0x409229a3e6d2a00c67c48dc73f5ce61efb848c1faef8d4ad5009c6d300adab79', 'pubkey': '03b524f4f021cd548dc8f13c65682339d5f3c53927c5549674660dfbd6fd11a7c2'}, {'address': '0x7f42089f5a93Ae806592057E305a8DB23ed2424e', 'privkey': '0x022f55d8ab08069d8154c4b6d6d04f7c9600149a4ccc6f128ddacc4c1b8efea3', 'pubkey': '0345366d24decfbb87cbbf0c080ccebe0b866c00a36d2116aa0b6467bd9c42d31e'}, {'address': '0x454453A0732CBE6c1009342E580Fd76a4F8EF1C7', 'privkey': '0x3d1b7573a377fa6c48bb61c72408ca8f3c8164c5a03d905d08b54b97d42a813a', 'pubkey': '0344f5b76e9508658eb447bb4b06af96f0b0a7fac5b3e3301511a938c6716a18b8'}], 'btc-test': [{'address': 'n24H3Lv9ucMRfRTzqtjdasaqLaEJye6xFp', 'privkey': 'cNpcyt6bBwsVR5PtBPU3myYzHm8bgJe1dKkqz4BoaAPWEYPF1gQn', 'pubkey': '027fef5b69b03129c72be2bd913cd7d68ec7aa7dc264abc7dcb61a1424bdb18de7'}, {'address': 'mh42D47zZ5sAYBZeUKQw5yc4jPVHq9Kd1g', 'privkey': 'cNtNRuDWJcJfYxGZ8GCJVjq7xGzQ1gokMkALQuow3Wx3vvs7Z2Az', 'pubkey': '03470abca7d1c5109cfff70edb3849976229e81b3bb24e398e178537b18459ac5f'}, {'address': 'mo5x1hXmBbFPyp8j5Jw4JhWtZhwPuo72xA', 'privkey': 'cPxACwqy6ENY72Z9a2FAfsiJkpTKEaVZRU4XSJ3XSKa9zu9eeh1g', 'pubkey': '023455b0f2cdc34acbfa371ecf54b5538ace9dc88f43cb2dbcc2ed1a96542cd645'}], 'btc': [{'address': '1LqnfihkPPwZy19WFVX3dxudbaR9UpZjBU', 'privkey': 'KwKaUJSyaeqqzYSLhjs8XFqT8tpVvXVMQfSCy73jdFAWJCoztvuZ', 'pubkey': '02dacaa4c1adae44e7d77710783ff998b123311738f0666f335b8a0ad5ec34aadc'}, {'address': '1JnAQTkyxnGMQ2HVhw1AHxNMvmZWyFnXxi', 'privkey': 'KxSYCUYa9qJBC3CpAxqcbKhNzpy6fVvEgMJX73EUKu2ggLJyT5Eo', 'pubkey': '0340fe2b9a52a75bf966619c5df900e02325990e905e4182e4a72e5901503100f4'}, {'address': '1688uR4geU2BkZEK91NY4zh87gYvT9VEEc', 'privkey': 'L47scjscBLyy8Qidsmp1vaVMXNtsrZ39w4ACvw8B6cfrjmjsmp4i', 'pubkey': '0386c509c70badb5085f6812b3da21533a05e948b38b0a2fba47c1eeab2fa4ea5d'}], 'ltc': [{'address': 'LZWfJf3DJPQR6umfktHyKCXZQkpWAd8CkX', 'privkey': 'T4H13oamuDSz6pSbnRD3LKG5ZysDBz5V72TNJ2MVjdeEcuzakQR1', 'pubkey': '02b5598acd32b243a38a6feaa0abf893cbe8ee09b567c5c4c74445f82ba4016ae4'}, {'address': 'LZEk25JTdWYNe8pRatEG5JbrKLto1uQF8Z', 'privkey': 'T3Lg3AJJbHSetxd7svi2jzujV4pr1EZ2uGUAQBFnb8KfSAE6H7xc', 'pubkey': '0243458fcb44c23c1c0c6ad35cf024f869eb69d84781a3da7eeaad892093ff97f4'}, {'address': 'LKvqrYWvsX2fLfgUtRBJdEnaruKU4FkgUB', 'privkey': 'T5wGLdym9f5kZDUeoXYrSRirfc8cVNhsLQzHyHQorxPLnQmcnNJz', 'pubkey': '02a2149fd96a822169e1b3cb17f40f0a8450ac2cac5101e117efae5f77dc651e80'}]}\n"
     ]
    }
   ],
   "source": [
    "print(coins)"
   ]
  },
  {
   "cell_type": "code",
   "execution_count": 19,
   "metadata": {},
   "outputs": [
    {
     "output_type": "execute_result",
     "data": {
      "text/plain": [
       "'0x022f55d8ab08069d8154c4b6d6d04f7c9600149a4ccc6f128ddacc4c1b8efea3'"
      ]
     },
     "metadata": {},
     "execution_count": 19
    }
   ],
   "source": [
    "coins['eth'][1]['privkey']"
   ]
  },
  {
   "cell_type": "code",
   "execution_count": 20,
   "metadata": {},
   "outputs": [],
   "source": [
    "from web3 import Web3\n",
    "from web3.middleware import geth_poa_middleware\n",
    "from eth_account import Account\n",
    "from bit import wif_to_key\n",
    "from bit import PrivateKeyTestnet\n",
    "from bit import PrivateKey"
   ]
  },
  {
   "cell_type": "code",
   "execution_count": 21,
   "metadata": {},
   "outputs": [],
   "source": [
    "def priv_key_to_account (coin,priv_key):\n",
    "    if coin==ETH:\n",
    "        return Account.privateKeyToAccount(priv_key)\n",
    "    if coin==BTCTEST:\n",
    "        return  PrivateKeyTestnet(priv_key)\n",
    "    if coin==BTC:\n",
    "        return PrivateKey(priv_key)\n",
    "    "
   ]
  },
  {
   "cell_type": "code",
   "execution_count": 22,
   "metadata": {},
   "outputs": [
    {
     "output_type": "execute_result",
     "data": {
      "text/plain": [
       "<eth_account.signers.local.LocalAccount at 0x19f9a062c48>"
      ]
     },
     "metadata": {},
     "execution_count": 22
    }
   ],
   "source": [
    "priv_key_to_account(ETH,coins['eth'][1]['privkey'] )"
   ]
  },
  {
   "cell_type": "code",
   "execution_count": 23,
   "metadata": {},
   "outputs": [
    {
     "output_type": "stream",
     "name": "stdout",
     "text": [
      "<function priv_key_to_account at 0x0000019F9A046828>\n"
     ]
    }
   ],
   "source": [
    "print(priv_key_to_account)"
   ]
  },
  {
   "cell_type": "code",
   "execution_count": 24,
   "metadata": {},
   "outputs": [
    {
     "output_type": "execute_result",
     "data": {
      "text/plain": [
       "<PrivateKeyTestnet: mh42D47zZ5sAYBZeUKQw5yc4jPVHq9Kd1g>"
      ]
     },
     "metadata": {},
     "execution_count": 24
    }
   ],
   "source": [
    "priv_key_to_account(BTCTEST,coins['btc-test'][1]['privkey'])"
   ]
  },
  {
   "cell_type": "code",
   "execution_count": 25,
   "metadata": {},
   "outputs": [
    {
     "output_type": "execute_result",
     "data": {
      "text/plain": [
       "<PrivateKey: 1JnAQTkyxnGMQ2HVhw1AHxNMvmZWyFnXxi>"
      ]
     },
     "metadata": {},
     "execution_count": 25
    }
   ],
   "source": [
    "priv_key_to_account(BTC,coins['btc'][1]['privkey'])"
   ]
  },
  {
   "cell_type": "code",
   "execution_count": 26,
   "metadata": {},
   "outputs": [],
   "source": [
    "priv_key_to_account(LTC,coins['ltc'][1]['privkey'])"
   ]
  },
  {
   "cell_type": "code",
   "execution_count": 28,
   "metadata": {},
   "outputs": [],
   "source": [
    "# create_tx function\n",
    "\n",
    "def create_tx(coin, account,recipient_address,amount):\n",
    "    if coin==ETH:\n",
    "        w3 = Web3(Web3.HTTPProvider(\"http://127.0.0.1:8545\"))\n",
    "        w3.middleware_onion.inject(geth_poa_middleware, layer=0)\n",
    "        gasEstimate = w3.eth.estimateGas(\n",
    "            {\"from\": account.address, \"to\": recipient_address, \"value\": amount}\n",
    "        )\n",
    "        return {\n",
    "            \"from\": account.address,\n",
    "            \"to\": recipient_address,\n",
    "            \"value\": amount,\n",
    "            \"gasPrice\": w3.eth.gasPrice,\n",
    "            \"gas\": gasEstimate,\n",
    "            \"nonce\": w3.eth.getTransactionCount(account.address),\n",
    "            \"chainID\": w3.eth.chainId(account.address)\n",
    "        }\n",
    "    if coin==BTCTEST:\n",
    "        return PrivateKeyTestnet.prepare_transaction(account.address,[(recipient_address,amount, BTC)])\n",
    "    \n",
    "    if coin==BTC:\n",
    "        return PrivateKey.prepare_transaction(account.address,[(recipient_address,amount, BTC)])\n",
    "    "
   ]
  },
  {
   "cell_type": "code",
   "execution_count": null,
   "metadata": {},
   "outputs": [],
   "source": [
    "# send_tx function\n",
    "\n",
    "def send_tx(coin,account,recipient_address,amount):\n",
    "    tx = create_tx(coin,account,recipient_address, amount)\n",
    "    signed_tx = account.sign_transaction(tx)"
   ]
  }
 ]
}