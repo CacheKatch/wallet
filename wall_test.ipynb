{
 "metadata": {
  "language_info": {
   "codemirror_mode": {
    "name": "ipython",
    "version": 3
   },
   "file_extension": ".py",
   "mimetype": "text/x-python",
   "name": "python",
   "nbconvert_exporter": "python",
   "pygments_lexer": "ipython3",
   "version": "3.7.9-final"
  },
  "orig_nbformat": 2,
  "kernelspec": {
   "name": "python3",
   "display_name": "Python 3.7.9 64-bit ('ethereum': conda)",
   "metadata": {
    "interpreter": {
     "hash": "feabcdad2880a12371d0452ba9bbac503ceb2166a3b988915bc674916ab3c265"
    }
   }
  }
 },
 "nbformat": 4,
 "nbformat_minor": 2,
 "cells": [
  {
   "cell_type": "code",
   "execution_count": 1,
   "metadata": {},
   "outputs": [],
   "source": [
    "from constants import BTC\n",
    "from constants import ETH\n",
    "from constants import BTCTEST\n",
    "from constants import LTC"
   ]
  },
  {
   "cell_type": "code",
   "execution_count": 2,
   "metadata": {},
   "outputs": [],
   "source": [
    "import os\n",
    "from dotenv import load_dotenv"
   ]
  },
  {
   "cell_type": "code",
   "execution_count": 3,
   "metadata": {},
   "outputs": [],
   "source": [
    "import subprocess\n",
    "import json"
   ]
  },
  {
   "cell_type": "code",
   "execution_count": 4,
   "metadata": {},
   "outputs": [
    {
     "output_type": "execute_result",
     "data": {
      "text/plain": [
       "True"
      ]
     },
     "metadata": {},
     "execution_count": 4
    }
   ],
   "source": [
    "load_dotenv()"
   ]
  },
  {
   "cell_type": "code",
   "execution_count": 5,
   "metadata": {},
   "outputs": [],
   "source": [
    "mnemonic = os.getenv(\"MNEMONIC\",\"\"\"rough pull enemy remove resource toward army okay slender rapid uphold segment\"\"\")"
   ]
  },
  {
   "cell_type": "code",
   "execution_count": 6,
   "metadata": {},
   "outputs": [
    {
     "output_type": "stream",
     "name": "stdout",
     "text": [
      "evidence woman margin elephant such worry net romance grunt estate wall bring eternal inner salute\n"
     ]
    }
   ],
   "source": [
    "print(mnemonic)"
   ]
  },
  {
   "cell_type": "code",
   "execution_count": 7,
   "metadata": {},
   "outputs": [
    {
     "output_type": "execute_result",
     "data": {
      "text/plain": [
       "1"
      ]
     },
     "metadata": {},
     "execution_count": 7
    }
   ],
   "source": [
    "command = \"\"\"./hd-wallet-derive/hd-wallet-derive.php -g --mnemonic=\"evidence woman margin elephant such worry net romance grunt estate wall bring eternal inner salute\" --numderive=3 --format=json\"\"\"\n",
    "p =subprocess.Popen(command, stdout=subprocess.PIPE, shell=True)\n",
    "(output, err) =p.communicate()\n",
    "p.wait()"
   ]
  },
  {
   "cell_type": "code",
   "execution_count": 8,
   "metadata": {},
   "outputs": [
    {
     "output_type": "stream",
     "name": "stdout",
     "text": [
      "b''\n"
     ]
    }
   ],
   "source": [
    "print(output)"
   ]
  },
  {
   "cell_type": "code",
   "execution_count": 9,
   "metadata": {},
   "outputs": [
    {
     "output_type": "execute_result",
     "data": {
      "text/plain": [
       "1"
      ]
     },
     "metadata": {},
     "execution_count": 9
    }
   ],
   "source": [
    "command = './derive -g --mnemonic=\"rough pull enemy remove resource toward army okay slender rapid uphold segment\" --format=json'\n",
    "p =subprocess.Popen(command, stdout=subprocess.PIPE, shell=True)\n",
    "(output, err) =p.communicate()\n",
    "p.wait()"
   ]
  },
  {
   "cell_type": "code",
   "execution_count": 10,
   "metadata": {},
   "outputs": [
    {
     "output_type": "stream",
     "name": "stdout",
     "text": [
      "b''\n"
     ]
    }
   ],
   "source": [
    "print(output)"
   ]
  },
  {
   "cell_type": "code",
   "execution_count": 11,
   "metadata": {},
   "outputs": [],
   "source": [
    "coin_name=ETH"
   ]
  },
  {
   "cell_type": "code",
   "execution_count": 12,
   "metadata": {},
   "outputs": [
    {
     "output_type": "execute_result",
     "data": {
      "text/plain": [
       "0"
      ]
     },
     "metadata": {},
     "execution_count": 12
    }
   ],
   "source": [
    "command = f'php derive -g --mnemonic=\"{mnemonic}\" --cols=address,privkey,pubkey --numderive=3 --coin={coin_name} --format=json'\n",
    "p =subprocess.Popen(command, stdout=subprocess.PIPE, shell=True)\n",
    "(output, err) =p.communicate()\n",
    "p.wait()"
   ]
  },
  {
   "cell_type": "code",
   "execution_count": 13,
   "metadata": {},
   "outputs": [
    {
     "output_type": "stream",
     "name": "stdout",
     "text": [
      "b'\\n[{\"address\":\"0xef7AF838023A8710F697fFc4C5AbcbDE8610234c\",\"privkey\":\"0x409229a3e6d2a00c67c48dc73f5ce61efb848c1faef8d4ad5009c6d300adab79\",\"pubkey\":\"03b524f4f021cd548dc8f13c65682339d5f3c53927c5549674660dfbd6fd11a7c2\"},{\"address\":\"0x7f42089f5a93Ae806592057E305a8DB23ed2424e\",\"privkey\":\"0x022f55d8ab08069d8154c4b6d6d04f7c9600149a4ccc6f128ddacc4c1b8efea3\",\"pubkey\":\"0345366d24decfbb87cbbf0c080ccebe0b866c00a36d2116aa0b6467bd9c42d31e\"},{\"address\":\"0x454453A0732CBE6c1009342E580Fd76a4F8EF1C7\",\"privkey\":\"0x3d1b7573a377fa6c48bb61c72408ca8f3c8164c5a03d905d08b54b97d42a813a\",\"pubkey\":\"0344f5b76e9508658eb447bb4b06af96f0b0a7fac5b3e3301511a938c6716a18b8\"}]'\n"
     ]
    }
   ],
   "source": [
    "print(output)"
   ]
  },
  {
   "cell_type": "code",
   "execution_count": 14,
   "metadata": {},
   "outputs": [],
   "source": [
    "def derive_wallets(coin_name, mnemonic=mnemonic ,numb_derive=3):\n",
    "    command = f'php derive -g --mnemonic=\"{mnemonic}\" --cols=address,privkey,pubkey --numderive={numb_derive} --coin={coin_name} --format=json'\n",
    "    p =subprocess.Popen(command, stdout=subprocess.PIPE, shell=True)\n",
    "    (output, err) =p.communicate()\n",
    "    p.wait()\n",
    "    keys = json.loads(output)\n",
    "    return keys"
   ]
  },
  {
   "cell_type": "code",
   "execution_count": 15,
   "metadata": {},
   "outputs": [
    {
     "output_type": "execute_result",
     "data": {
      "text/plain": [
       "[{'address': '0xef7AF838023A8710F697fFc4C5AbcbDE8610234c',\n",
       "  'privkey': '0x409229a3e6d2a00c67c48dc73f5ce61efb848c1faef8d4ad5009c6d300adab79',\n",
       "  'pubkey': '03b524f4f021cd548dc8f13c65682339d5f3c53927c5549674660dfbd6fd11a7c2'},\n",
       " {'address': '0x7f42089f5a93Ae806592057E305a8DB23ed2424e',\n",
       "  'privkey': '0x022f55d8ab08069d8154c4b6d6d04f7c9600149a4ccc6f128ddacc4c1b8efea3',\n",
       "  'pubkey': '0345366d24decfbb87cbbf0c080ccebe0b866c00a36d2116aa0b6467bd9c42d31e'},\n",
       " {'address': '0x454453A0732CBE6c1009342E580Fd76a4F8EF1C7',\n",
       "  'privkey': '0x3d1b7573a377fa6c48bb61c72408ca8f3c8164c5a03d905d08b54b97d42a813a',\n",
       "  'pubkey': '0344f5b76e9508658eb447bb4b06af96f0b0a7fac5b3e3301511a938c6716a18b8'}]"
      ]
     },
     "metadata": {},
     "execution_count": 15
    }
   ],
   "source": [
    "derive_wallets(coin_name)"
   ]
  },
  {
   "cell_type": "code",
   "execution_count": 16,
   "metadata": {},
   "outputs": [
    {
     "output_type": "execute_result",
     "data": {
      "text/plain": [
       "{'eth': [{'address': '0xef7AF838023A8710F697fFc4C5AbcbDE8610234c',\n",
       "   'privkey': '0x409229a3e6d2a00c67c48dc73f5ce61efb848c1faef8d4ad5009c6d300adab79',\n",
       "   'pubkey': '03b524f4f021cd548dc8f13c65682339d5f3c53927c5549674660dfbd6fd11a7c2'},\n",
       "  {'address': '0x7f42089f5a93Ae806592057E305a8DB23ed2424e',\n",
       "   'privkey': '0x022f55d8ab08069d8154c4b6d6d04f7c9600149a4ccc6f128ddacc4c1b8efea3',\n",
       "   'pubkey': '0345366d24decfbb87cbbf0c080ccebe0b866c00a36d2116aa0b6467bd9c42d31e'},\n",
       "  {'address': '0x454453A0732CBE6c1009342E580Fd76a4F8EF1C7',\n",
       "   'privkey': '0x3d1b7573a377fa6c48bb61c72408ca8f3c8164c5a03d905d08b54b97d42a813a',\n",
       "   'pubkey': '0344f5b76e9508658eb447bb4b06af96f0b0a7fac5b3e3301511a938c6716a18b8'}],\n",
       " 'btc-test': [{'address': 'n24H3Lv9ucMRfRTzqtjdasaqLaEJye6xFp',\n",
       "   'privkey': 'cNpcyt6bBwsVR5PtBPU3myYzHm8bgJe1dKkqz4BoaAPWEYPF1gQn',\n",
       "   'pubkey': '027fef5b69b03129c72be2bd913cd7d68ec7aa7dc264abc7dcb61a1424bdb18de7'},\n",
       "  {'address': 'mh42D47zZ5sAYBZeUKQw5yc4jPVHq9Kd1g',\n",
       "   'privkey': 'cNtNRuDWJcJfYxGZ8GCJVjq7xGzQ1gokMkALQuow3Wx3vvs7Z2Az',\n",
       "   'pubkey': '03470abca7d1c5109cfff70edb3849976229e81b3bb24e398e178537b18459ac5f'},\n",
       "  {'address': 'mo5x1hXmBbFPyp8j5Jw4JhWtZhwPuo72xA',\n",
       "   'privkey': 'cPxACwqy6ENY72Z9a2FAfsiJkpTKEaVZRU4XSJ3XSKa9zu9eeh1g',\n",
       "   'pubkey': '023455b0f2cdc34acbfa371ecf54b5538ace9dc88f43cb2dbcc2ed1a96542cd645'}],\n",
       " 'btc': [{'address': '1LqnfihkPPwZy19WFVX3dxudbaR9UpZjBU',\n",
       "   'privkey': 'KwKaUJSyaeqqzYSLhjs8XFqT8tpVvXVMQfSCy73jdFAWJCoztvuZ',\n",
       "   'pubkey': '02dacaa4c1adae44e7d77710783ff998b123311738f0666f335b8a0ad5ec34aadc'},\n",
       "  {'address': '1JnAQTkyxnGMQ2HVhw1AHxNMvmZWyFnXxi',\n",
       "   'privkey': 'KxSYCUYa9qJBC3CpAxqcbKhNzpy6fVvEgMJX73EUKu2ggLJyT5Eo',\n",
       "   'pubkey': '0340fe2b9a52a75bf966619c5df900e02325990e905e4182e4a72e5901503100f4'},\n",
       "  {'address': '1688uR4geU2BkZEK91NY4zh87gYvT9VEEc',\n",
       "   'privkey': 'L47scjscBLyy8Qidsmp1vaVMXNtsrZ39w4ACvw8B6cfrjmjsmp4i',\n",
       "   'pubkey': '0386c509c70badb5085f6812b3da21533a05e948b38b0a2fba47c1eeab2fa4ea5d'}],\n",
       " 'ltc': [{'address': 'LZWfJf3DJPQR6umfktHyKCXZQkpWAd8CkX',\n",
       "   'privkey': 'T4H13oamuDSz6pSbnRD3LKG5ZysDBz5V72TNJ2MVjdeEcuzakQR1',\n",
       "   'pubkey': '02b5598acd32b243a38a6feaa0abf893cbe8ee09b567c5c4c74445f82ba4016ae4'},\n",
       "  {'address': 'LZEk25JTdWYNe8pRatEG5JbrKLto1uQF8Z',\n",
       "   'privkey': 'T3Lg3AJJbHSetxd7svi2jzujV4pr1EZ2uGUAQBFnb8KfSAE6H7xc',\n",
       "   'pubkey': '0243458fcb44c23c1c0c6ad35cf024f869eb69d84781a3da7eeaad892093ff97f4'},\n",
       "  {'address': 'LKvqrYWvsX2fLfgUtRBJdEnaruKU4FkgUB',\n",
       "   'privkey': 'T5wGLdym9f5kZDUeoXYrSRirfc8cVNhsLQzHyHQorxPLnQmcnNJz',\n",
       "   'pubkey': '02a2149fd96a822169e1b3cb17f40f0a8450ac2cac5101e117efae5f77dc651e80'}]}"
      ]
     },
     "metadata": {},
     "execution_count": 16
    }
   ],
   "source": [
    "coins={\"eth\":derive_wallets(ETH),\n",
    "    \"btc-test\":derive_wallets(BTCTEST),\n",
    "    \"btc\":derive_wallets(BTC),\n",
    "    \"ltc\":derive_wallets(LTC)}\n",
    "\n",
    "coins\n"
   ]
  },
  {
   "cell_type": "code",
   "execution_count": 17,
   "metadata": {},
   "outputs": [
    {
     "output_type": "execute_result",
     "data": {
      "text/plain": [
       "[{'address': 'n24H3Lv9ucMRfRTzqtjdasaqLaEJye6xFp',\n",
       "  'privkey': 'cNpcyt6bBwsVR5PtBPU3myYzHm8bgJe1dKkqz4BoaAPWEYPF1gQn',\n",
       "  'pubkey': '027fef5b69b03129c72be2bd913cd7d68ec7aa7dc264abc7dcb61a1424bdb18de7'},\n",
       " {'address': 'mh42D47zZ5sAYBZeUKQw5yc4jPVHq9Kd1g',\n",
       "  'privkey': 'cNtNRuDWJcJfYxGZ8GCJVjq7xGzQ1gokMkALQuow3Wx3vvs7Z2Az',\n",
       "  'pubkey': '03470abca7d1c5109cfff70edb3849976229e81b3bb24e398e178537b18459ac5f'},\n",
       " {'address': 'mo5x1hXmBbFPyp8j5Jw4JhWtZhwPuo72xA',\n",
       "  'privkey': 'cPxACwqy6ENY72Z9a2FAfsiJkpTKEaVZRU4XSJ3XSKa9zu9eeh1g',\n",
       "  'pubkey': '023455b0f2cdc34acbfa371ecf54b5538ace9dc88f43cb2dbcc2ed1a96542cd645'}]"
      ]
     },
     "metadata": {},
     "execution_count": 17
    }
   ],
   "source": [
    "derive_wallets(BTCTEST)"
   ]
  },
  {
   "cell_type": "code",
   "execution_count": 18,
   "metadata": {},
   "outputs": [
    {
     "output_type": "stream",
     "name": "stdout",
     "text": [
      "{'eth': [{'address': '0xef7AF838023A8710F697fFc4C5AbcbDE8610234c', 'privkey': '0x409229a3e6d2a00c67c48dc73f5ce61efb848c1faef8d4ad5009c6d300adab79', 'pubkey': '03b524f4f021cd548dc8f13c65682339d5f3c53927c5549674660dfbd6fd11a7c2'}, {'address': '0x7f42089f5a93Ae806592057E305a8DB23ed2424e', 'privkey': '0x022f55d8ab08069d8154c4b6d6d04f7c9600149a4ccc6f128ddacc4c1b8efea3', 'pubkey': '0345366d24decfbb87cbbf0c080ccebe0b866c00a36d2116aa0b6467bd9c42d31e'}, {'address': '0x454453A0732CBE6c1009342E580Fd76a4F8EF1C7', 'privkey': '0x3d1b7573a377fa6c48bb61c72408ca8f3c8164c5a03d905d08b54b97d42a813a', 'pubkey': '0344f5b76e9508658eb447bb4b06af96f0b0a7fac5b3e3301511a938c6716a18b8'}], 'btc-test': [{'address': 'n24H3Lv9ucMRfRTzqtjdasaqLaEJye6xFp', 'privkey': 'cNpcyt6bBwsVR5PtBPU3myYzHm8bgJe1dKkqz4BoaAPWEYPF1gQn', 'pubkey': '027fef5b69b03129c72be2bd913cd7d68ec7aa7dc264abc7dcb61a1424bdb18de7'}, {'address': 'mh42D47zZ5sAYBZeUKQw5yc4jPVHq9Kd1g', 'privkey': 'cNtNRuDWJcJfYxGZ8GCJVjq7xGzQ1gokMkALQuow3Wx3vvs7Z2Az', 'pubkey': '03470abca7d1c5109cfff70edb3849976229e81b3bb24e398e178537b18459ac5f'}, {'address': 'mo5x1hXmBbFPyp8j5Jw4JhWtZhwPuo72xA', 'privkey': 'cPxACwqy6ENY72Z9a2FAfsiJkpTKEaVZRU4XSJ3XSKa9zu9eeh1g', 'pubkey': '023455b0f2cdc34acbfa371ecf54b5538ace9dc88f43cb2dbcc2ed1a96542cd645'}], 'btc': [{'address': '1LqnfihkPPwZy19WFVX3dxudbaR9UpZjBU', 'privkey': 'KwKaUJSyaeqqzYSLhjs8XFqT8tpVvXVMQfSCy73jdFAWJCoztvuZ', 'pubkey': '02dacaa4c1adae44e7d77710783ff998b123311738f0666f335b8a0ad5ec34aadc'}, {'address': '1JnAQTkyxnGMQ2HVhw1AHxNMvmZWyFnXxi', 'privkey': 'KxSYCUYa9qJBC3CpAxqcbKhNzpy6fVvEgMJX73EUKu2ggLJyT5Eo', 'pubkey': '0340fe2b9a52a75bf966619c5df900e02325990e905e4182e4a72e5901503100f4'}, {'address': '1688uR4geU2BkZEK91NY4zh87gYvT9VEEc', 'privkey': 'L47scjscBLyy8Qidsmp1vaVMXNtsrZ39w4ACvw8B6cfrjmjsmp4i', 'pubkey': '0386c509c70badb5085f6812b3da21533a05e948b38b0a2fba47c1eeab2fa4ea5d'}], 'ltc': [{'address': 'LZWfJf3DJPQR6umfktHyKCXZQkpWAd8CkX', 'privkey': 'T4H13oamuDSz6pSbnRD3LKG5ZysDBz5V72TNJ2MVjdeEcuzakQR1', 'pubkey': '02b5598acd32b243a38a6feaa0abf893cbe8ee09b567c5c4c74445f82ba4016ae4'}, {'address': 'LZEk25JTdWYNe8pRatEG5JbrKLto1uQF8Z', 'privkey': 'T3Lg3AJJbHSetxd7svi2jzujV4pr1EZ2uGUAQBFnb8KfSAE6H7xc', 'pubkey': '0243458fcb44c23c1c0c6ad35cf024f869eb69d84781a3da7eeaad892093ff97f4'}, {'address': 'LKvqrYWvsX2fLfgUtRBJdEnaruKU4FkgUB', 'privkey': 'T5wGLdym9f5kZDUeoXYrSRirfc8cVNhsLQzHyHQorxPLnQmcnNJz', 'pubkey': '02a2149fd96a822169e1b3cb17f40f0a8450ac2cac5101e117efae5f77dc651e80'}]}\n"
     ]
    }
   ],
   "source": [
    "print(coins)"
   ]
  },
  {
   "cell_type": "code",
   "execution_count": 19,
   "metadata": {},
   "outputs": [
    {
     "output_type": "execute_result",
     "data": {
      "text/plain": [
       "'0x022f55d8ab08069d8154c4b6d6d04f7c9600149a4ccc6f128ddacc4c1b8efea3'"
      ]
     },
     "metadata": {},
     "execution_count": 19
    }
   ],
   "source": [
    "coins['eth'][1]['privkey']"
   ]
  },
  {
   "cell_type": "code",
   "execution_count": 63,
   "metadata": {},
   "outputs": [],
   "source": [
    "from web3 import Web3\n",
    "from web3.middleware import geth_poa_middleware\n",
    "from eth_account import Account\n",
    "from bit import wif_to_key\n",
    "from bit import PrivateKeyTestnet\n",
    "from bit import PrivateKey\n",
    "from bit import Key"
   ]
  },
  {
   "cell_type": "code",
   "execution_count": 132,
   "metadata": {},
   "outputs": [],
   "source": [
    "def priv_key_to_account (coin,priv_key):\n",
    "    \"\"\"\n",
    "    This function return the address of a wallet\n",
    "    given its corresponding private key\n",
    "    \"\"\"\n",
    "    if coin==ETH:\n",
    "        return Account.privateKeyToAccount(priv_key)\n",
    "    if coin==BTCTEST:\n",
    "        return  PrivateKeyTestnet(priv_key).address\n",
    "    if coin==BTC:\n",
    "        return PrivateKey(priv_key).address\n",
    "    "
   ]
  },
  {
   "cell_type": "code",
   "execution_count": 133,
   "metadata": {},
   "outputs": [
    {
     "output_type": "execute_result",
     "data": {
      "text/plain": [
       "<eth_account.signers.local.LocalAccount at 0x16c1fef5048>"
      ]
     },
     "metadata": {},
     "execution_count": 133
    }
   ],
   "source": [
    "priv_key_to_account(ETH,coins['eth'][1]['privkey'] )"
   ]
  },
  {
   "cell_type": "code",
   "execution_count": 134,
   "metadata": {},
   "outputs": [
    {
     "output_type": "stream",
     "name": "stdout",
     "text": [
      "<function priv_key_to_account at 0x0000016C1FD973A8>\n"
     ]
    }
   ],
   "source": [
    "print(priv_key_to_account)"
   ]
  },
  {
   "cell_type": "code",
   "execution_count": 135,
   "metadata": {},
   "outputs": [
    {
     "output_type": "execute_result",
     "data": {
      "text/plain": [
       "'mh42D47zZ5sAYBZeUKQw5yc4jPVHq9Kd1g'"
      ]
     },
     "metadata": {},
     "execution_count": 135
    }
   ],
   "source": [
    "priv_key_to_account(BTCTEST,coins['btc-test'][1]['privkey'])"
   ]
  },
  {
   "cell_type": "code",
   "execution_count": 136,
   "metadata": {},
   "outputs": [
    {
     "output_type": "execute_result",
     "data": {
      "text/plain": [
       "'1JnAQTkyxnGMQ2HVhw1AHxNMvmZWyFnXxi'"
      ]
     },
     "metadata": {},
     "execution_count": 136
    }
   ],
   "source": [
    "priv_key_to_account(BTC,coins['btc'][1]['privkey'])"
   ]
  },
  {
   "cell_type": "code",
   "execution_count": 137,
   "metadata": {},
   "outputs": [],
   "source": [
    "priv_key_to_account(LTC,coins['ltc'][1]['privkey'])"
   ]
  },
  {
   "cell_type": "code",
   "execution_count": 70,
   "metadata": {},
   "outputs": [],
   "source": [
    "# create_tx function\n",
    "\n",
    "def create_tx(coin, account,recipient_address,amount):\n",
    "    if coin==ETH:\n",
    "        w3 = Web3(Web3.HTTPProvider(\"http://127.0.0.1:8545\"))\n",
    "        w3.middleware_onion.inject(geth_poa_middleware, layer=0)\n",
    "        gasEstimate = w3.eth.estimateGas(\n",
    "            {\"from\": account.address, \"to\": recipient_address, \"value\": amount}\n",
    "        )\n",
    "        return {\n",
    "            \"from\": account.address,\n",
    "            \"to\": recipient_address,\n",
    "            \"value\": amount,\n",
    "            \"gasPrice\": w3.eth.gasPrice,\n",
    "            \"gas\": gasEstimate,\n",
    "            \"nonce\": w3.eth.getTransactionCount(account.address),\n",
    "            \"chainID\": w3.eth.chainId(account.address)\n",
    "        }\n",
    "    if coin==BTCTEST:\n",
    "        return PrivateKeyTestnet.prepare_transaction(account.address,[(recipient_address,amount, BTCTEST)])\n",
    "    \n",
    "    if coin==BTC:\n",
    "        return PrivateKey.prepare_transaction(account.address,[(recipient_address,amount, BTC)])\n",
    "    "
   ]
  },
  {
   "cell_type": "code",
   "execution_count": 71,
   "metadata": {},
   "outputs": [],
   "source": [
    "# send_tx function\n",
    "\n",
    "def send_tx(coin,account,recipient_address,amount):\n",
    "    if coin==BTCTEST:\n",
    "        result_btctest = create_tx(coin,account,recipient_address,amount)\n",
    "        return result_btctest\n",
    "    if coin==ETH:\n",
    "        tx = create_tx(coin,account,recipient_address, amount)\n",
    "        signed_tx = account.sign_transaction(tx)\n",
    "        result = w3.eth.sendRawTransaction(signed_tx.rawTransaction)\n",
    "        return result.hex()"
   ]
  },
  {
   "cell_type": "code",
   "execution_count": 72,
   "metadata": {},
   "outputs": [
    {
     "output_type": "execute_result",
     "data": {
      "text/plain": [
       "<PrivateKeyTestnet: n24H3Lv9ucMRfRTzqtjdasaqLaEJye6xFp>"
      ]
     },
     "metadata": {},
     "execution_count": 72
    }
   ],
   "source": [
    "#test sending bit-test\n",
    "\n",
    "bit_account = priv_key_to_account(BTCTEST,\"cNpcyt6bBwsVR5PtBPU3myYzHm8bgJe1dKkqz4BoaAPWEYPF1gQn\")\n",
    "bit_account"
   ]
  },
  {
   "cell_type": "code",
   "execution_count": 73,
   "metadata": {},
   "outputs": [
    {
     "output_type": "stream",
     "name": "stdout",
     "text": [
      "0.001\n"
     ]
    }
   ],
   "source": [
    "print(bit_account.get_balance(BTC))"
   ]
  },
  {
   "cell_type": "code",
   "execution_count": 75,
   "metadata": {},
   "outputs": [
    {
     "output_type": "error",
     "ename": "AttributeError",
     "evalue": "'str' object has no attribute 'address'",
     "traceback": [
      "\u001b[1;31m---------------------------------------------------------------------------\u001b[0m",
      "\u001b[1;31mAttributeError\u001b[0m                            Traceback (most recent call last)",
      "\u001b[1;32m<ipython-input-75-7800d62d2b6a>\u001b[0m in \u001b[0;36m<module>\u001b[1;34m\u001b[0m\n\u001b[1;32m----> 1\u001b[1;33m \u001b[0msend_btctest\u001b[0m \u001b[1;33m=\u001b[0m \u001b[0msend_tx\u001b[0m\u001b[1;33m(\u001b[0m\u001b[0mBTCTEST\u001b[0m\u001b[1;33m,\u001b[0m\u001b[1;34m\"cNpcyt6bBwsVR5PtBPU3myYzHm8bgJe1dKkqz4BoaAPWEYPF1gQn\"\u001b[0m\u001b[1;33m,\u001b[0m\u001b[1;34m\"mo5x1hXmBbFPyp8j5Jw4JhWtZhwPuo72xA\"\u001b[0m\u001b[1;33m,\u001b[0m\u001b[1;36m0.000001\u001b[0m\u001b[1;33m)\u001b[0m\u001b[1;33m\u001b[0m\u001b[1;33m\u001b[0m\u001b[0m\n\u001b[0m\u001b[0;32m      2\u001b[0m \u001b[0msend_btctest\u001b[0m\u001b[1;33m\u001b[0m\u001b[1;33m\u001b[0m\u001b[0m\n",
      "\u001b[1;32m<ipython-input-71-2e5416c401e6>\u001b[0m in \u001b[0;36msend_tx\u001b[1;34m(coin, account, recipient_address, amount)\u001b[0m\n\u001b[0;32m      3\u001b[0m \u001b[1;32mdef\u001b[0m \u001b[0msend_tx\u001b[0m\u001b[1;33m(\u001b[0m\u001b[0mcoin\u001b[0m\u001b[1;33m,\u001b[0m\u001b[0maccount\u001b[0m\u001b[1;33m,\u001b[0m\u001b[0mrecipient_address\u001b[0m\u001b[1;33m,\u001b[0m\u001b[0mamount\u001b[0m\u001b[1;33m)\u001b[0m\u001b[1;33m:\u001b[0m\u001b[1;33m\u001b[0m\u001b[1;33m\u001b[0m\u001b[0m\n\u001b[0;32m      4\u001b[0m     \u001b[1;32mif\u001b[0m \u001b[0mcoin\u001b[0m\u001b[1;33m==\u001b[0m\u001b[0mBTCTEST\u001b[0m\u001b[1;33m:\u001b[0m\u001b[1;33m\u001b[0m\u001b[1;33m\u001b[0m\u001b[0m\n\u001b[1;32m----> 5\u001b[1;33m         \u001b[0mresult_btctest\u001b[0m \u001b[1;33m=\u001b[0m \u001b[0mcreate_tx\u001b[0m\u001b[1;33m(\u001b[0m\u001b[0mcoin\u001b[0m\u001b[1;33m,\u001b[0m\u001b[0maccount\u001b[0m\u001b[1;33m,\u001b[0m\u001b[0mrecipient_address\u001b[0m\u001b[1;33m,\u001b[0m\u001b[0mamount\u001b[0m\u001b[1;33m)\u001b[0m\u001b[1;33m\u001b[0m\u001b[1;33m\u001b[0m\u001b[0m\n\u001b[0m\u001b[0;32m      6\u001b[0m         \u001b[1;32mreturn\u001b[0m \u001b[0mresult_btctest\u001b[0m\u001b[1;33m\u001b[0m\u001b[1;33m\u001b[0m\u001b[0m\n\u001b[0;32m      7\u001b[0m     \u001b[1;32mif\u001b[0m \u001b[0mcoin\u001b[0m\u001b[1;33m==\u001b[0m\u001b[0mETH\u001b[0m\u001b[1;33m:\u001b[0m\u001b[1;33m\u001b[0m\u001b[1;33m\u001b[0m\u001b[0m\n",
      "\u001b[1;32m<ipython-input-70-354de32a3a93>\u001b[0m in \u001b[0;36mcreate_tx\u001b[1;34m(coin, account, recipient_address, amount)\u001b[0m\n\u001b[0;32m     18\u001b[0m         }\n\u001b[0;32m     19\u001b[0m     \u001b[1;32mif\u001b[0m \u001b[0mcoin\u001b[0m\u001b[1;33m==\u001b[0m\u001b[0mBTCTEST\u001b[0m\u001b[1;33m:\u001b[0m\u001b[1;33m\u001b[0m\u001b[1;33m\u001b[0m\u001b[0m\n\u001b[1;32m---> 20\u001b[1;33m         \u001b[1;32mreturn\u001b[0m \u001b[0mPrivateKeyTestnet\u001b[0m\u001b[1;33m.\u001b[0m\u001b[0mprepare_transaction\u001b[0m\u001b[1;33m(\u001b[0m\u001b[0maccount\u001b[0m\u001b[1;33m.\u001b[0m\u001b[0maddress\u001b[0m\u001b[1;33m,\u001b[0m\u001b[1;33m[\u001b[0m\u001b[1;33m(\u001b[0m\u001b[0mrecipient_address\u001b[0m\u001b[1;33m,\u001b[0m\u001b[0mamount\u001b[0m\u001b[1;33m,\u001b[0m \u001b[0mBTCTEST\u001b[0m\u001b[1;33m)\u001b[0m\u001b[1;33m]\u001b[0m\u001b[1;33m)\u001b[0m\u001b[1;33m\u001b[0m\u001b[1;33m\u001b[0m\u001b[0m\n\u001b[0m\u001b[0;32m     21\u001b[0m \u001b[1;33m\u001b[0m\u001b[0m\n\u001b[0;32m     22\u001b[0m     \u001b[1;32mif\u001b[0m \u001b[0mcoin\u001b[0m\u001b[1;33m==\u001b[0m\u001b[0mBTC\u001b[0m\u001b[1;33m:\u001b[0m\u001b[1;33m\u001b[0m\u001b[1;33m\u001b[0m\u001b[0m\n",
      "\u001b[1;31mAttributeError\u001b[0m: 'str' object has no attribute 'address'"
     ]
    }
   ],
   "source": [
    "send_btctest = send_tx(BTCTEST,\"cNpcyt6bBwsVR5PtBPU3myYzHm8bgJe1dKkqz4BoaAPWEYPF1gQn\",\"mo5x1hXmBbFPyp8j5Jw4JhWtZhwPuo72xA\",0.000001)\n",
    "send_btctest"
   ]
  },
  {
   "cell_type": "code",
   "execution_count": 32,
   "metadata": {},
   "outputs": [
    {
     "output_type": "stream",
     "name": "stdout",
     "text": [
      "0\n"
     ]
    }
   ],
   "source": [
    "#balance on receiving account\n",
    "bit_acc_add_3=priv_key_to_account(BTCTEST,\"cPxACwqy6ENY72Z9a2FAfsiJkpTKEaVZRU4XSJ3XSKa9zu9eeh1g\")\n",
    "print(bit_acc_add_3.get_balance(BTC))"
   ]
  },
  {
   "cell_type": "code",
   "execution_count": 44,
   "metadata": {},
   "outputs": [
    {
     "output_type": "stream",
     "name": "stdout",
     "text": [
      "0.001\n"
     ]
    }
   ],
   "source": [
    "bit_account_after_tx=priv_key_to_account(BTCTEST,\"cNpcyt6bBwsVR5PtBPU3myYzHm8bgJe1dKkqz4BoaAPWEYPF1gQn\")\n",
    "print(bit_account_after_tx.get_balance(BTC))"
   ]
  },
  {
   "cell_type": "code",
   "execution_count": 34,
   "metadata": {},
   "outputs": [
    {
     "output_type": "stream",
     "name": "stdout",
     "text": [
      "['f1bcbedd5fc3bfe8cc53404939e66e79e2e9220cf758f127b4d4ae34c2e957a3']\n"
     ]
    }
   ],
   "source": [
    "key=wif_to_key(\"cNpcyt6bBwsVR5PtBPU3myYzHm8bgJe1dKkqz4BoaAPWEYPF1gQn\")\n",
    "print(key.get_transactions())"
   ]
  },
  {
   "cell_type": "code",
   "execution_count": 35,
   "metadata": {},
   "outputs": [
    {
     "output_type": "stream",
     "name": "stdout",
     "text": [
      "[]\n"
     ]
    }
   ],
   "source": [
    "key=wif_to_key(\"cPxACwqy6ENY72Z9a2FAfsiJkpTKEaVZRU4XSJ3XSKa9zu9eeh1g\")\n",
    "print(key.get_transactions())"
   ]
  },
  {
   "cell_type": "code",
   "execution_count": 76,
   "metadata": {},
   "outputs": [
    {
     "output_type": "error",
     "ename": "AttributeError",
     "evalue": "'str' object has no attribute 'address'",
     "traceback": [
      "\u001b[1;31m---------------------------------------------------------------------------\u001b[0m",
      "\u001b[1;31mAttributeError\u001b[0m                            Traceback (most recent call last)",
      "\u001b[1;32m<ipython-input-76-437953804041>\u001b[0m in \u001b[0;36m<module>\u001b[1;34m\u001b[0m\n\u001b[1;32m----> 1\u001b[1;33m \u001b[0mcreate_tx\u001b[0m\u001b[1;33m(\u001b[0m\u001b[0mBTC\u001b[0m\u001b[1;33m,\u001b[0m\u001b[1;34m\"cNpcyt6bBwsVR5PtBPU3myYzHm8bgJe1dKkqz4BoaAPWEYPF1gQn\"\u001b[0m\u001b[1;33m,\u001b[0m\u001b[1;34m\"mo5x1hXmBbFPyp8j5Jw4JhWtZhwPuo72xA\"\u001b[0m\u001b[1;33m,\u001b[0m\u001b[1;36m0.00001\u001b[0m\u001b[1;33m)\u001b[0m\u001b[1;33m\u001b[0m\u001b[1;33m\u001b[0m\u001b[0m\n\u001b[0m",
      "\u001b[1;32m<ipython-input-70-354de32a3a93>\u001b[0m in \u001b[0;36mcreate_tx\u001b[1;34m(coin, account, recipient_address, amount)\u001b[0m\n\u001b[0;32m     21\u001b[0m \u001b[1;33m\u001b[0m\u001b[0m\n\u001b[0;32m     22\u001b[0m     \u001b[1;32mif\u001b[0m \u001b[0mcoin\u001b[0m\u001b[1;33m==\u001b[0m\u001b[0mBTC\u001b[0m\u001b[1;33m:\u001b[0m\u001b[1;33m\u001b[0m\u001b[1;33m\u001b[0m\u001b[0m\n\u001b[1;32m---> 23\u001b[1;33m         \u001b[1;32mreturn\u001b[0m \u001b[0mPrivateKey\u001b[0m\u001b[1;33m.\u001b[0m\u001b[0mprepare_transaction\u001b[0m\u001b[1;33m(\u001b[0m\u001b[0maccount\u001b[0m\u001b[1;33m.\u001b[0m\u001b[0maddress\u001b[0m\u001b[1;33m,\u001b[0m\u001b[1;33m[\u001b[0m\u001b[1;33m(\u001b[0m\u001b[0mrecipient_address\u001b[0m\u001b[1;33m,\u001b[0m\u001b[0mamount\u001b[0m\u001b[1;33m,\u001b[0m \u001b[0mBTC\u001b[0m\u001b[1;33m)\u001b[0m\u001b[1;33m]\u001b[0m\u001b[1;33m)\u001b[0m\u001b[1;33m\u001b[0m\u001b[1;33m\u001b[0m\u001b[0m\n\u001b[0m\u001b[0;32m     24\u001b[0m \u001b[1;33m\u001b[0m\u001b[0m\n",
      "\u001b[1;31mAttributeError\u001b[0m: 'str' object has no attribute 'address'"
     ]
    }
   ],
   "source": [
    "create_tx(BTC,\"cNpcyt6bBwsVR5PtBPU3myYzHm8bgJe1dKkqz4BoaAPWEYPF1gQn\",\"mo5x1hXmBbFPyp8j5Jw4JhWtZhwPuo72xA\",0.00001)"
   ]
  },
  {
   "cell_type": "code",
   "execution_count": 79,
   "metadata": {},
   "outputs": [
    {
     "output_type": "error",
     "ename": "KeyError",
     "evalue": "'btc-test'",
     "traceback": [
      "\u001b[1;31m---------------------------------------------------------------------------\u001b[0m",
      "\u001b[1;31mKeyError\u001b[0m                                  Traceback (most recent call last)",
      "\u001b[1;32m<ipython-input-79-b2843a3bfed3>\u001b[0m in \u001b[0;36m<module>\u001b[1;34m\u001b[0m\n\u001b[1;32m----> 1\u001b[1;33m \u001b[0mPrivateKeyTestnet\u001b[0m\u001b[1;33m.\u001b[0m\u001b[0mprepare_transaction\u001b[0m\u001b[1;33m(\u001b[0m\u001b[1;34m\"cNpcyt6bBwsVR5PtBPU3myYzHm8bgJe1dKkqz4BoaAPWEYPF1gQn\"\u001b[0m\u001b[1;33m,\u001b[0m\u001b[1;33m[\u001b[0m\u001b[1;33m(\u001b[0m\u001b[1;34m\"mo5x1hXmBbFPyp8j5Jw4JhWtZhwPuo72xA\"\u001b[0m\u001b[1;33m,\u001b[0m\u001b[1;36m0.00001\u001b[0m\u001b[1;33m,\u001b[0m\u001b[0mBTCTEST\u001b[0m\u001b[1;33m)\u001b[0m\u001b[1;33m]\u001b[0m\u001b[1;33m)\u001b[0m\u001b[1;33m\u001b[0m\u001b[1;33m\u001b[0m\u001b[0m\n\u001b[0m",
      "\u001b[1;32m~\\anaconda3\\envs\\ethereum\\lib\\site-packages\\bit\\wallet.py\u001b[0m in \u001b[0;36mprepare_transaction\u001b[1;34m(cls, address, outputs, compressed, fee, absolute_fee, leftover, combine, message, unspents, message_is_hex, replace_by_fee)\u001b[0m\n\u001b[0;32m    850\u001b[0m             \u001b[0mversion\u001b[0m\u001b[1;33m=\u001b[0m\u001b[1;34m'test'\u001b[0m\u001b[1;33m,\u001b[0m\u001b[1;33m\u001b[0m\u001b[1;33m\u001b[0m\u001b[0m\n\u001b[0;32m    851\u001b[0m             \u001b[0mmessage_is_hex\u001b[0m\u001b[1;33m=\u001b[0m\u001b[0mmessage_is_hex\u001b[0m\u001b[1;33m,\u001b[0m\u001b[1;33m\u001b[0m\u001b[1;33m\u001b[0m\u001b[0m\n\u001b[1;32m--> 852\u001b[1;33m             \u001b[0mreplace_by_fee\u001b[0m\u001b[1;33m=\u001b[0m\u001b[0mreplace_by_fee\u001b[0m\u001b[1;33m\u001b[0m\u001b[1;33m\u001b[0m\u001b[0m\n\u001b[0m\u001b[0;32m    853\u001b[0m         )\n\u001b[0;32m    854\u001b[0m \u001b[1;33m\u001b[0m\u001b[0m\n",
      "\u001b[1;32m~\\anaconda3\\envs\\ethereum\\lib\\site-packages\\bit\\transaction.py\u001b[0m in \u001b[0;36msanitize_tx_data\u001b[1;34m(unspents, outputs, fee, leftover, combine, message, compressed, absolute_fee, min_change, version, message_is_hex, replace_by_fee)\u001b[0m\n\u001b[0;32m    400\u001b[0m     \u001b[1;32mfor\u001b[0m \u001b[0mi\u001b[0m\u001b[1;33m,\u001b[0m \u001b[0moutput\u001b[0m \u001b[1;32min\u001b[0m \u001b[0menumerate\u001b[0m\u001b[1;33m(\u001b[0m\u001b[0moutputs\u001b[0m\u001b[1;33m)\u001b[0m\u001b[1;33m:\u001b[0m\u001b[1;33m\u001b[0m\u001b[1;33m\u001b[0m\u001b[0m\n\u001b[0;32m    401\u001b[0m         \u001b[0mdest\u001b[0m\u001b[1;33m,\u001b[0m \u001b[0mamount\u001b[0m\u001b[1;33m,\u001b[0m \u001b[0mcurrency\u001b[0m \u001b[1;33m=\u001b[0m \u001b[0moutput\u001b[0m\u001b[1;33m\u001b[0m\u001b[1;33m\u001b[0m\u001b[0m\n\u001b[1;32m--> 402\u001b[1;33m         \u001b[0moutputs\u001b[0m\u001b[1;33m[\u001b[0m\u001b[0mi\u001b[0m\u001b[1;33m]\u001b[0m \u001b[1;33m=\u001b[0m \u001b[1;33m(\u001b[0m\u001b[0mdest\u001b[0m\u001b[1;33m,\u001b[0m \u001b[0mcurrency_to_satoshi_cached\u001b[0m\u001b[1;33m(\u001b[0m\u001b[0mamount\u001b[0m\u001b[1;33m,\u001b[0m \u001b[0mcurrency\u001b[0m\u001b[1;33m)\u001b[0m\u001b[1;33m)\u001b[0m\u001b[1;33m\u001b[0m\u001b[1;33m\u001b[0m\u001b[0m\n\u001b[0m\u001b[0;32m    403\u001b[0m \u001b[1;33m\u001b[0m\u001b[0m\n\u001b[0;32m    404\u001b[0m     \u001b[1;32mif\u001b[0m \u001b[1;32mnot\u001b[0m \u001b[0munspents\u001b[0m\u001b[1;33m:\u001b[0m\u001b[1;33m\u001b[0m\u001b[1;33m\u001b[0m\u001b[0m\n",
      "\u001b[1;32m~\\anaconda3\\envs\\ethereum\\lib\\site-packages\\bit\\network\\rates.py\u001b[0m in \u001b[0;36mcurrency_to_satoshi_cached\u001b[1;34m(amount, currency)\u001b[0m\n\u001b[0;32m    640\u001b[0m     \u001b[1;33m:\u001b[0m\u001b[0mrtype\u001b[0m\u001b[1;33m:\u001b[0m\u001b[0;31m \u001b[0m\u001b[0;31m`\u001b[0m\u001b[0;31m`\u001b[0m\u001b[0mint\u001b[0m\u001b[0;31m`\u001b[0m\u001b[0;31m`\u001b[0m\u001b[1;33m\u001b[0m\u001b[1;33m\u001b[0m\u001b[0m\n\u001b[0;32m    641\u001b[0m     \"\"\"\n\u001b[1;32m--> 642\u001b[1;33m     \u001b[1;32mreturn\u001b[0m \u001b[0mcurrency_to_satoshi_local_cached\u001b[0m\u001b[1;33m(\u001b[0m\u001b[0mamount\u001b[0m\u001b[1;33m,\u001b[0m \u001b[0mcurrency\u001b[0m\u001b[1;33m)\u001b[0m\u001b[1;33m\u001b[0m\u001b[1;33m\u001b[0m\u001b[0m\n\u001b[0m\u001b[0;32m    643\u001b[0m \u001b[1;33m\u001b[0m\u001b[0m\n\u001b[0;32m    644\u001b[0m \u001b[1;33m\u001b[0m\u001b[0m\n",
      "\u001b[1;32m~\\anaconda3\\envs\\ethereum\\lib\\site-packages\\bit\\network\\rates.py\u001b[0m in \u001b[0;36mwrapper\u001b[1;34m(amount, currency)\u001b[0m\n\u001b[0;32m    613\u001b[0m         \u001b[0mnow\u001b[0m \u001b[1;33m=\u001b[0m \u001b[0mtime\u001b[0m\u001b[1;33m(\u001b[0m\u001b[1;33m)\u001b[0m\u001b[1;33m\u001b[0m\u001b[1;33m\u001b[0m\u001b[0m\n\u001b[0;32m    614\u001b[0m \u001b[1;33m\u001b[0m\u001b[0m\n\u001b[1;32m--> 615\u001b[1;33m         \u001b[0mcached_rate\u001b[0m \u001b[1;33m=\u001b[0m \u001b[0mcached_rates\u001b[0m\u001b[1;33m[\u001b[0m\u001b[0mcurrency\u001b[0m\u001b[1;33m]\u001b[0m\u001b[1;33m\u001b[0m\u001b[1;33m\u001b[0m\u001b[0m\n\u001b[0m\u001b[0;32m    616\u001b[0m \u001b[1;33m\u001b[0m\u001b[0m\n\u001b[0;32m    617\u001b[0m         \u001b[1;32mif\u001b[0m \u001b[1;32mnot\u001b[0m \u001b[0mcached_rate\u001b[0m\u001b[1;33m.\u001b[0m\u001b[0msatoshis\u001b[0m \u001b[1;32mor\u001b[0m \u001b[0mnow\u001b[0m \u001b[1;33m-\u001b[0m \u001b[0mcached_rate\u001b[0m\u001b[1;33m.\u001b[0m\u001b[0mlast_update\u001b[0m \u001b[1;33m>\u001b[0m \u001b[0mDEFAULT_CACHE_TIME\u001b[0m\u001b[1;33m:\u001b[0m\u001b[1;33m\u001b[0m\u001b[1;33m\u001b[0m\u001b[0m\n",
      "\u001b[1;31mKeyError\u001b[0m: 'btc-test'"
     ]
    }
   ],
   "source": [
    "PrivateKeyTestnet.prepare_transaction(\"cNpcyt6bBwsVR5PtBPU3myYzHm8bgJe1dKkqz4BoaAPWEYPF1gQn\",[(\"mo5x1hXmBbFPyp8j5Jw4JhWtZhwPuo72xA\",0.00001,BTCTEST)])"
   ]
  },
  {
   "cell_type": "code",
   "execution_count": 80,
   "metadata": {},
   "outputs": [
    {
     "output_type": "execute_result",
     "data": {
      "text/plain": [
       "[('mo5x1hXmBbFPyp8j5Jw4JhWtZhwPuo72xA', 1e-05, 'btc-test')]"
      ]
     },
     "metadata": {},
     "execution_count": 80
    }
   ],
   "source": [
    "outputs =[('mo5x1hXmBbFPyp8j5Jw4JhWtZhwPuo72xA', 0.00001, 'btc-test')]\n",
    "outputs"
   ]
  },
  {
   "cell_type": "code",
   "execution_count": 81,
   "metadata": {},
   "outputs": [
    {
     "output_type": "error",
     "ename": "KeyError",
     "evalue": "'btc-test'",
     "traceback": [
      "\u001b[1;31m---------------------------------------------------------------------------\u001b[0m",
      "\u001b[1;31mKeyError\u001b[0m                                  Traceback (most recent call last)",
      "\u001b[1;32m<ipython-input-81-7bf6d6eef14c>\u001b[0m in \u001b[0;36m<module>\u001b[1;34m\u001b[0m\n\u001b[1;32m----> 1\u001b[1;33m \u001b[0mPrivateKeyTestnet\u001b[0m\u001b[1;33m.\u001b[0m\u001b[0mprepare_transaction\u001b[0m\u001b[1;33m(\u001b[0m\u001b[1;34m\"cNpcyt6bBwsVR5PtBPU3myYzHm8bgJe1dKkqz4BoaAPWEYPF1gQn\"\u001b[0m\u001b[1;33m,\u001b[0m\u001b[0moutputs\u001b[0m\u001b[1;33m)\u001b[0m\u001b[1;33m\u001b[0m\u001b[1;33m\u001b[0m\u001b[0m\n\u001b[0m",
      "\u001b[1;32m~\\anaconda3\\envs\\ethereum\\lib\\site-packages\\bit\\wallet.py\u001b[0m in \u001b[0;36mprepare_transaction\u001b[1;34m(cls, address, outputs, compressed, fee, absolute_fee, leftover, combine, message, unspents, message_is_hex, replace_by_fee)\u001b[0m\n\u001b[0;32m    850\u001b[0m             \u001b[0mversion\u001b[0m\u001b[1;33m=\u001b[0m\u001b[1;34m'test'\u001b[0m\u001b[1;33m,\u001b[0m\u001b[1;33m\u001b[0m\u001b[1;33m\u001b[0m\u001b[0m\n\u001b[0;32m    851\u001b[0m             \u001b[0mmessage_is_hex\u001b[0m\u001b[1;33m=\u001b[0m\u001b[0mmessage_is_hex\u001b[0m\u001b[1;33m,\u001b[0m\u001b[1;33m\u001b[0m\u001b[1;33m\u001b[0m\u001b[0m\n\u001b[1;32m--> 852\u001b[1;33m             \u001b[0mreplace_by_fee\u001b[0m\u001b[1;33m=\u001b[0m\u001b[0mreplace_by_fee\u001b[0m\u001b[1;33m\u001b[0m\u001b[1;33m\u001b[0m\u001b[0m\n\u001b[0m\u001b[0;32m    853\u001b[0m         )\n\u001b[0;32m    854\u001b[0m \u001b[1;33m\u001b[0m\u001b[0m\n",
      "\u001b[1;32m~\\anaconda3\\envs\\ethereum\\lib\\site-packages\\bit\\transaction.py\u001b[0m in \u001b[0;36msanitize_tx_data\u001b[1;34m(unspents, outputs, fee, leftover, combine, message, compressed, absolute_fee, min_change, version, message_is_hex, replace_by_fee)\u001b[0m\n\u001b[0;32m    400\u001b[0m     \u001b[1;32mfor\u001b[0m \u001b[0mi\u001b[0m\u001b[1;33m,\u001b[0m \u001b[0moutput\u001b[0m \u001b[1;32min\u001b[0m \u001b[0menumerate\u001b[0m\u001b[1;33m(\u001b[0m\u001b[0moutputs\u001b[0m\u001b[1;33m)\u001b[0m\u001b[1;33m:\u001b[0m\u001b[1;33m\u001b[0m\u001b[1;33m\u001b[0m\u001b[0m\n\u001b[0;32m    401\u001b[0m         \u001b[0mdest\u001b[0m\u001b[1;33m,\u001b[0m \u001b[0mamount\u001b[0m\u001b[1;33m,\u001b[0m \u001b[0mcurrency\u001b[0m \u001b[1;33m=\u001b[0m \u001b[0moutput\u001b[0m\u001b[1;33m\u001b[0m\u001b[1;33m\u001b[0m\u001b[0m\n\u001b[1;32m--> 402\u001b[1;33m         \u001b[0moutputs\u001b[0m\u001b[1;33m[\u001b[0m\u001b[0mi\u001b[0m\u001b[1;33m]\u001b[0m \u001b[1;33m=\u001b[0m \u001b[1;33m(\u001b[0m\u001b[0mdest\u001b[0m\u001b[1;33m,\u001b[0m \u001b[0mcurrency_to_satoshi_cached\u001b[0m\u001b[1;33m(\u001b[0m\u001b[0mamount\u001b[0m\u001b[1;33m,\u001b[0m \u001b[0mcurrency\u001b[0m\u001b[1;33m)\u001b[0m\u001b[1;33m)\u001b[0m\u001b[1;33m\u001b[0m\u001b[1;33m\u001b[0m\u001b[0m\n\u001b[0m\u001b[0;32m    403\u001b[0m \u001b[1;33m\u001b[0m\u001b[0m\n\u001b[0;32m    404\u001b[0m     \u001b[1;32mif\u001b[0m \u001b[1;32mnot\u001b[0m \u001b[0munspents\u001b[0m\u001b[1;33m:\u001b[0m\u001b[1;33m\u001b[0m\u001b[1;33m\u001b[0m\u001b[0m\n",
      "\u001b[1;32m~\\anaconda3\\envs\\ethereum\\lib\\site-packages\\bit\\network\\rates.py\u001b[0m in \u001b[0;36mcurrency_to_satoshi_cached\u001b[1;34m(amount, currency)\u001b[0m\n\u001b[0;32m    640\u001b[0m     \u001b[1;33m:\u001b[0m\u001b[0mrtype\u001b[0m\u001b[1;33m:\u001b[0m\u001b[0;31m \u001b[0m\u001b[0;31m`\u001b[0m\u001b[0;31m`\u001b[0m\u001b[0mint\u001b[0m\u001b[0;31m`\u001b[0m\u001b[0;31m`\u001b[0m\u001b[1;33m\u001b[0m\u001b[1;33m\u001b[0m\u001b[0m\n\u001b[0;32m    641\u001b[0m     \"\"\"\n\u001b[1;32m--> 642\u001b[1;33m     \u001b[1;32mreturn\u001b[0m \u001b[0mcurrency_to_satoshi_local_cached\u001b[0m\u001b[1;33m(\u001b[0m\u001b[0mamount\u001b[0m\u001b[1;33m,\u001b[0m \u001b[0mcurrency\u001b[0m\u001b[1;33m)\u001b[0m\u001b[1;33m\u001b[0m\u001b[1;33m\u001b[0m\u001b[0m\n\u001b[0m\u001b[0;32m    643\u001b[0m \u001b[1;33m\u001b[0m\u001b[0m\n\u001b[0;32m    644\u001b[0m \u001b[1;33m\u001b[0m\u001b[0m\n",
      "\u001b[1;32m~\\anaconda3\\envs\\ethereum\\lib\\site-packages\\bit\\network\\rates.py\u001b[0m in \u001b[0;36mwrapper\u001b[1;34m(amount, currency)\u001b[0m\n\u001b[0;32m    613\u001b[0m         \u001b[0mnow\u001b[0m \u001b[1;33m=\u001b[0m \u001b[0mtime\u001b[0m\u001b[1;33m(\u001b[0m\u001b[1;33m)\u001b[0m\u001b[1;33m\u001b[0m\u001b[1;33m\u001b[0m\u001b[0m\n\u001b[0;32m    614\u001b[0m \u001b[1;33m\u001b[0m\u001b[0m\n\u001b[1;32m--> 615\u001b[1;33m         \u001b[0mcached_rate\u001b[0m \u001b[1;33m=\u001b[0m \u001b[0mcached_rates\u001b[0m\u001b[1;33m[\u001b[0m\u001b[0mcurrency\u001b[0m\u001b[1;33m]\u001b[0m\u001b[1;33m\u001b[0m\u001b[1;33m\u001b[0m\u001b[0m\n\u001b[0m\u001b[0;32m    616\u001b[0m \u001b[1;33m\u001b[0m\u001b[0m\n\u001b[0;32m    617\u001b[0m         \u001b[1;32mif\u001b[0m \u001b[1;32mnot\u001b[0m \u001b[0mcached_rate\u001b[0m\u001b[1;33m.\u001b[0m\u001b[0msatoshis\u001b[0m \u001b[1;32mor\u001b[0m \u001b[0mnow\u001b[0m \u001b[1;33m-\u001b[0m \u001b[0mcached_rate\u001b[0m\u001b[1;33m.\u001b[0m\u001b[0mlast_update\u001b[0m \u001b[1;33m>\u001b[0m \u001b[0mDEFAULT_CACHE_TIME\u001b[0m\u001b[1;33m:\u001b[0m\u001b[1;33m\u001b[0m\u001b[1;33m\u001b[0m\u001b[0m\n",
      "\u001b[1;31mKeyError\u001b[0m: 'btc-test'"
     ]
    }
   ],
   "source": [
    "PrivateKeyTestnet.prepare_transaction(\"cNpcyt6bBwsVR5PtBPU3myYzHm8bgJe1dKkqz4BoaAPWEYPF1gQn\",outputs)"
   ]
  },
  {
   "cell_type": "code",
   "execution_count": 83,
   "metadata": {},
   "outputs": [
    {
     "output_type": "execute_result",
     "data": {
      "text/plain": [
       "'0'"
      ]
     },
     "metadata": {},
     "execution_count": 83
    }
   ],
   "source": [
    "my_key = Key(\"cNpcyt6bBwsVR5PtBPU3myYzHm8bgJe1dKkqz4BoaAPWEYPF1gQn\")\n",
    "my_key.get_balance('btc')"
   ]
  },
  {
   "cell_type": "code",
   "execution_count": 85,
   "metadata": {},
   "outputs": [
    {
     "output_type": "execute_result",
     "data": {
      "text/plain": [
       "'0.001'"
      ]
     },
     "metadata": {},
     "execution_count": 85
    }
   ],
   "source": [
    "my_key_testnet = PrivateKeyTestnet(\"cNpcyt6bBwsVR5PtBPU3myYzHm8bgJe1dKkqz4BoaAPWEYPF1gQn\")\n",
    "my_key_testnet.get_balance('btc')"
   ]
  },
  {
   "cell_type": "code",
   "execution_count": 87,
   "metadata": {},
   "outputs": [
    {
     "output_type": "execute_result",
     "data": {
      "text/plain": [
       "'0f0a113b007a407192f0f93a9d49692b2327ead1758e70b3e375d13c0a4e7298'"
      ]
     },
     "metadata": {},
     "execution_count": 87
    }
   ],
   "source": [
    "outputs2 = [('mo5x1hXmBbFPyp8j5Jw4JhWtZhwPuo72xA', 0.00001, 'btc')]\n",
    "my_key_testnet.send(outputs2)"
   ]
  },
  {
   "cell_type": "code",
   "execution_count": 89,
   "metadata": {},
   "outputs": [
    {
     "output_type": "execute_result",
     "data": {
      "text/plain": [
       "'{\"unspents\":[{\"amount\":75948,\"confirmations\":4,\"script\":\"76a914e14f0f269e862d4bf45c4c3e03e803a60fa0f6e388ac\",\"txid\":\"0f0a113b007a407192f0f93a9d49692b2327ead1758e70b3e375d13c0a4e7298\",\"txindex\":1,\"type\":\"p2pkh\",\"vsize\":148,\"segwit\":false,\"sequence\":4294967295}],\"outputs\":[[\"mo5x1hXmBbFPyp8j5Jw4JhWtZhwPuo72xA\",2000],[\"n24H3Lv9ucMRfRTzqtjdasaqLaEJye6xFp\",50896]]}'"
      ]
     },
     "metadata": {},
     "execution_count": 89
    }
   ],
   "source": [
    "outputs3 = [('mo5x1hXmBbFPyp8j5Jw4JhWtZhwPuo72xA', 0.00002, 'btc')]\n",
    "wrap_prep_tx = my_key_testnet.prepare_transaction('n24H3Lv9ucMRfRTzqtjdasaqLaEJye6xFp',outputs=outputs3)\n",
    "wrap_prep_tx"
   ]
  },
  {
   "cell_type": "code",
   "execution_count": 93,
   "metadata": {},
   "outputs": [
    {
     "output_type": "execute_result",
     "data": {
      "text/plain": [
       "'010000000198724e0a3cd175e3b3708e75d1ea27232b69499d3af9f09271407a003b110a0f010000006b4830450221008103d610f7974e2740bfc71c71b69ea72d5b1bc9085965c8df1c58f9187f73d9022034dcec3736fe8438e25846628924d8a2defc8c8e950a572e16bb10ba43be6aee0121027fef5b69b03129c72be2bd913cd7d68ec7aa7dc264abc7dcb61a1424bdb18de7ffffffff02d0070000000000001976a91453065f3158738c5946bca7db3d8974450b87a56188acd0c60000000000001976a914e14f0f269e862d4bf45c4c3e03e803a60fa0f6e388ac00000000'"
      ]
     },
     "metadata": {},
     "execution_count": 93
    }
   ],
   "source": [
    "tx_hex=my_key_testnet.sign_transaction(wrap_prep_tx)\n",
    "tx_hex"
   ]
  },
  {
   "cell_type": "code",
   "execution_count": 94,
   "metadata": {},
   "outputs": [],
   "source": [
    "from bit.network import NetworkAPI\n",
    "NetworkAPI.broadcast_tx_testnet(tx_hex)"
   ]
  },
  {
   "cell_type": "code",
   "execution_count": 95,
   "metadata": {},
   "outputs": [
    {
     "output_type": "stream",
     "name": "stdout",
     "text": [
      "None\n"
     ]
    }
   ],
   "source": [
    "print(NetworkAPI.broadcast_tx_testnet(tx_hex))"
   ]
  },
  {
   "cell_type": "code",
   "execution_count": 96,
   "metadata": {},
   "outputs": [
    {
     "output_type": "execute_result",
     "data": {
      "text/plain": [
       "'0.00003'"
      ]
     },
     "metadata": {},
     "execution_count": 96
    }
   ],
   "source": [
    "#lets check transactions in receiving address\n",
    "rec_address_balance = PrivateKeyTestnet(\"cPxACwqy6ENY72Z9a2FAfsiJkpTKEaVZRU4XSJ3XSKa9zu9eeh1g\")\n",
    "rec_address_balance.get_balance('btc')"
   ]
  },
  {
   "cell_type": "code",
   "execution_count": 97,
   "metadata": {},
   "outputs": [
    {
     "output_type": "execute_result",
     "data": {
      "text/plain": [
       "['843190100cc72dd764e878a6aab511af0fc20490c262d1d7d535a9025a26530d',\n",
       " '0f0a113b007a407192f0f93a9d49692b2327ead1758e70b3e375d13c0a4e7298']"
      ]
     },
     "metadata": {},
     "execution_count": 97
    }
   ],
   "source": [
    "rec_address_balance.get_transactions()"
   ]
  },
  {
   "cell_type": "code",
   "execution_count": 98,
   "metadata": {},
   "outputs": [
    {
     "output_type": "execute_result",
     "data": {
      "text/plain": [
       "['843190100cc72dd764e878a6aab511af0fc20490c262d1d7d535a9025a26530d',\n",
       " '0f0a113b007a407192f0f93a9d49692b2327ead1758e70b3e375d13c0a4e7298']"
      ]
     },
     "metadata": {},
     "execution_count": 98
    }
   ],
   "source": [
    "# Address3 transactions dataframe\n",
    "add3_testnet_pri_key = PrivateKeyTestnet(\"cPxACwqy6ENY72Z9a2FAfsiJkpTKEaVZRU4XSJ3XSKa9zu9eeh1g\")\n",
    "add3_transactions = add3_testnet_pri_key.get_transactions()\n",
    "add3_transactions"
   ]
  },
  {
   "cell_type": "code",
   "execution_count": 99,
   "metadata": {},
   "outputs": [],
   "source": [
    "import pandas as pd"
   ]
  },
  {
   "cell_type": "code",
   "execution_count": 100,
   "metadata": {},
   "outputs": [
    {
     "output_type": "execute_result",
     "data": {
      "text/plain": [
       "                                                   0\n",
       "0  843190100cc72dd764e878a6aab511af0fc20490c262d1...\n",
       "1  0f0a113b007a407192f0f93a9d49692b2327ead1758e70..."
      ],
      "text/html": "<div>\n<style scoped>\n    .dataframe tbody tr th:only-of-type {\n        vertical-align: middle;\n    }\n\n    .dataframe tbody tr th {\n        vertical-align: top;\n    }\n\n    .dataframe thead th {\n        text-align: right;\n    }\n</style>\n<table border=\"1\" class=\"dataframe\">\n  <thead>\n    <tr style=\"text-align: right;\">\n      <th></th>\n      <th>0</th>\n    </tr>\n  </thead>\n  <tbody>\n    <tr>\n      <th>0</th>\n      <td>843190100cc72dd764e878a6aab511af0fc20490c262d1...</td>\n    </tr>\n    <tr>\n      <th>1</th>\n      <td>0f0a113b007a407192f0f93a9d49692b2327ead1758e70...</td>\n    </tr>\n  </tbody>\n</table>\n</div>"
     },
     "metadata": {},
     "execution_count": 100
    }
   ],
   "source": [
    "\n",
    "add3_transactions_df= pd.DataFrame(add3_transactions)\n",
    "add3_transactions_df"
   ]
  },
  {
   "cell_type": "code",
   "execution_count": 139,
   "metadata": {},
   "outputs": [],
   "source": [
    "# new create_tx function\n",
    "\n",
    "def create_tx2(sender_acc_priv_key,recipient_address,amount,coin):\n",
    "    if coin=='btc-test':\n",
    "        my_key_testnet = PrivateKeyTestnet(sender_acc_priv_key)\n",
    "        outputs3 = [(recipient_address, amount, 'btc')]\n",
    "        my_address_to_display = priv_key_to_account('btc-test',sender_acc_priv_key)\n",
    "        print( my_address_to_display)\n",
    "        wrap_prep_tx = my_key_testnet.prepare_transaction(my_address_to_display,outputs=outputs3)\n",
    "        tx_hex=my_key_testnet.sign_transaction(wrap_prep_tx)\n",
    "        return tx_hex"
   ]
  },
  {
   "cell_type": "code",
   "execution_count": 142,
   "metadata": {},
   "outputs": [
    {
     "output_type": "stream",
     "name": "stdout",
     "text": [
      "n24H3Lv9ucMRfRTzqtjdasaqLaEJye6xFp\n"
     ]
    },
    {
     "output_type": "execute_result",
     "data": {
      "text/plain": [
       "'01000000010d53265a02a935d5d7d162c29004c20faf11b5aaa678e864d72dc70c10903184010000006b483045022100c439e4a1bd034edc443221e155c3c9279a54614906cce4204445b1253e4b730c02207921043c4e4ca7639477f6bfad5faf454b8fe3cea3fe175446189ef4367f57310121027fef5b69b03129c72be2bd913cd7d68ec7aa7dc264abc7dcb61a1424bdb18de7ffffffff02b80b0000000000001976a91453065f3158738c5946bca7db3d8974450b87a56188ac0c610000000000001976a914e14f0f269e862d4bf45c4c3e03e803a60fa0f6e388ac00000000'"
      ]
     },
     "metadata": {},
     "execution_count": 142
    }
   ],
   "source": [
    "#test function with btc-test\n",
    "\n",
    "add1_priv_key = 'cNpcyt6bBwsVR5PtBPU3myYzHm8bgJe1dKkqz4BoaAPWEYPF1gQn'\n",
    "add_to_send_tx = 'mo5x1hXmBbFPyp8j5Jw4JhWtZhwPuo72xA'\n",
    "create_tx2(add1_priv_key,add_to_send_tx,0.00003,BTCTEST)"
   ]
  },
  {
   "cell_type": "code",
   "execution_count": 144,
   "metadata": {},
   "outputs": [
    {
     "output_type": "error",
     "ename": "ConnectionError",
     "evalue": "Transaction broadcast failed, or Unspents were already used.",
     "traceback": [
      "\u001b[1;31m---------------------------------------------------------------------------\u001b[0m",
      "\u001b[1;31mConnectionError\u001b[0m                           Traceback (most recent call last)",
      "\u001b[1;32m<ipython-input-144-cc3f33ddc54b>\u001b[0m in \u001b[0;36m<module>\u001b[1;34m\u001b[0m\n\u001b[0;32m      1\u001b[0m \u001b[1;31m# pending broadcast the 3rd transaction\u001b[0m\u001b[1;33m\u001b[0m\u001b[1;33m\u001b[0m\u001b[1;33m\u001b[0m\u001b[0m\n\u001b[1;32m----> 2\u001b[1;33m \u001b[0mNetworkAPI\u001b[0m\u001b[1;33m.\u001b[0m\u001b[0mbroadcast_tx_testnet\u001b[0m\u001b[1;33m(\u001b[0m\u001b[0mtx_hex\u001b[0m\u001b[1;33m)\u001b[0m\u001b[1;33m\u001b[0m\u001b[1;33m\u001b[0m\u001b[0m\n\u001b[0m",
      "\u001b[1;32m~\\anaconda3\\envs\\ethereum\\lib\\site-packages\\bit\\network\\services.py\u001b[0m in \u001b[0;36mbroadcast_tx_testnet\u001b[1;34m(cls, tx_hex)\u001b[0m\n\u001b[0;32m   1248\u001b[0m \u001b[1;33m\u001b[0m\u001b[0m\n\u001b[0;32m   1249\u001b[0m         \u001b[1;32mif\u001b[0m \u001b[0msuccess\u001b[0m \u001b[1;32mis\u001b[0m \u001b[1;32mFalse\u001b[0m\u001b[1;33m:\u001b[0m\u001b[1;33m\u001b[0m\u001b[1;33m\u001b[0m\u001b[0m\n\u001b[1;32m-> 1250\u001b[1;33m             \u001b[1;32mraise\u001b[0m \u001b[0mConnectionError\u001b[0m\u001b[1;33m(\u001b[0m\u001b[1;34m'Transaction broadcast failed, or Unspents were already used.'\u001b[0m\u001b[1;33m)\u001b[0m\u001b[1;33m\u001b[0m\u001b[1;33m\u001b[0m\u001b[0m\n\u001b[0m\u001b[0;32m   1251\u001b[0m \u001b[1;33m\u001b[0m\u001b[0m\n\u001b[0;32m   1252\u001b[0m         \u001b[1;32mraise\u001b[0m \u001b[0mConnectionError\u001b[0m\u001b[1;33m(\u001b[0m\u001b[1;34m'All APIs are unreachable.'\u001b[0m\u001b[1;33m)\u001b[0m\u001b[1;33m\u001b[0m\u001b[1;33m\u001b[0m\u001b[0m\n",
      "\u001b[1;31mConnectionError\u001b[0m: Transaction broadcast failed, or Unspents were already used."
     ]
    }
   ],
   "source": [
    "# pending broadcast the 3rd transaction\n",
    "NetworkAPI.broadcast_tx_testnet(tx_hex)"
   ]
  },
  {
   "cell_type": "code",
   "execution_count": 145,
   "metadata": {},
   "outputs": [
    {
     "output_type": "execute_result",
     "data": {
      "text/plain": [
       "'0.00050896'"
      ]
     },
     "metadata": {},
     "execution_count": 145
    }
   ],
   "source": [
    "my_key_testnet = PrivateKeyTestnet(\"cNpcyt6bBwsVR5PtBPU3myYzHm8bgJe1dKkqz4BoaAPWEYPF1gQn\")\n",
    "my_key_testnet.get_balance('btc')"
   ]
  },
  {
   "cell_type": "code",
   "execution_count": 125,
   "metadata": {},
   "outputs": [
    {
     "output_type": "execute_result",
     "data": {
      "text/plain": [
       "'18.87'"
      ]
     },
     "metadata": {},
     "execution_count": 125
    }
   ],
   "source": [
    "my_key_testnet = PrivateKeyTestnet(\"cNpcyt6bBwsVR5PtBPU3myYzHm8bgJe1dKkqz4BoaAPWEYPF1gQn\")\n",
    "my_key_testnet.get_balance('usd')"
   ]
  },
  {
   "cell_type": "code",
   "execution_count": 129,
   "metadata": {},
   "outputs": [
    {
     "output_type": "execute_result",
     "data": {
      "text/plain": [
       "<PrivateKeyTestnet: n24H3Lv9ucMRfRTzqtjdasaqLaEJye6xFp>"
      ]
     },
     "metadata": {},
     "execution_count": 129
    }
   ],
   "source": [
    "bit_account = priv_key_to_account(BTCTEST,\"cNpcyt6bBwsVR5PtBPU3myYzHm8bgJe1dKkqz4BoaAPWEYPF1gQn\")\n",
    "bit_account\n"
   ]
  },
  {
   "cell_type": "code",
   "execution_count": 131,
   "metadata": {},
   "outputs": [
    {
     "output_type": "execute_result",
     "data": {
      "text/plain": [
       "'n24H3Lv9ucMRfRTzqtjdasaqLaEJye6xFp'"
      ]
     },
     "metadata": {},
     "execution_count": 131
    }
   ],
   "source": [
    "PrivateKeyTestnet(\"cNpcyt6bBwsVR5PtBPU3myYzHm8bgJe1dKkqz4BoaAPWEYPF1gQn\").address"
   ]
  },
  {
   "cell_type": "code",
   "execution_count": null,
   "metadata": {},
   "outputs": [],
   "source": []
  }
 ]
}