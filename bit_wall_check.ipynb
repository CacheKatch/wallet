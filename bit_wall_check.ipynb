{
 "metadata": {
  "language_info": {
   "codemirror_mode": {
    "name": "ipython",
    "version": 3
   },
   "file_extension": ".py",
   "mimetype": "text/x-python",
   "name": "python",
   "nbconvert_exporter": "python",
   "pygments_lexer": "ipython3",
   "version": "3.7.9-final"
  },
  "orig_nbformat": 2,
  "kernelspec": {
   "name": "python3",
   "display_name": "Python 3.7.9 64-bit ('ethereum': conda)",
   "metadata": {
    "interpreter": {
     "hash": "feabcdad2880a12371d0452ba9bbac503ceb2166a3b988915bc674916ab3c265"
    }
   }
  }
 },
 "nbformat": 4,
 "nbformat_minor": 2,
 "cells": [
  {
   "cell_type": "code",
   "execution_count": 1,
   "metadata": {},
   "outputs": [],
   "source": [
    "from constants import BTC\n",
    "from constants import ETH\n",
    "from constants import BTCTEST\n",
    "from constants import LTC\n",
    "\n"
   ]
  },
  {
   "cell_type": "code",
   "execution_count": 2,
   "metadata": {},
   "outputs": [],
   "source": [
    "import os\n",
    "from dotenv import load_dotenv"
   ]
  },
  {
   "cell_type": "code",
   "execution_count": 3,
   "metadata": {},
   "outputs": [],
   "source": [
    "import subprocess\n",
    "import json"
   ]
  },
  {
   "cell_type": "code",
   "execution_count": 4,
   "metadata": {},
   "outputs": [],
   "source": [
    "from web3 import Web3\n",
    "from web3.middleware import geth_poa_middleware\n",
    "from eth_account import Account\n",
    "from bit import wif_to_key\n",
    "from bit import PrivateKeyTestnet\n",
    "from bit import PrivateKey\n",
    "from bit import Key"
   ]
  },
  {
   "cell_type": "code",
   "execution_count": 5,
   "metadata": {},
   "outputs": [],
   "source": [
    "from bit.network import NetworkAPI"
   ]
  },
  {
   "cell_type": "code",
   "execution_count": 6,
   "metadata": {},
   "outputs": [],
   "source": [
    "import pandas as pd"
   ]
  },
  {
   "cell_type": "code",
   "execution_count": 13,
   "metadata": {},
   "outputs": [],
   "source": [
    "def priv_key_to_account (coin,priv_key):\n",
    "    \"\"\"\n",
    "    This function return the address of a wallet\n",
    "    given its corresponding private key\n",
    "    \"\"\"\n",
    "    if coin==ETH:\n",
    "        account_address = Account.privateKeyToAccount(priv_key)\n",
    "    if coin==BTCTEST:\n",
    "        account_address = PrivateKeyTestnet(priv_key).address\n",
    "    if coin==BTC:\n",
    "        account_address = PrivateKey(priv_key).address\n",
    "\n",
    "    return account_address"
   ]
  },
  {
   "cell_type": "code",
   "execution_count": 14,
   "metadata": {},
   "outputs": [
    {
     "output_type": "execute_result",
     "data": {
      "text/plain": [
       "'n24H3Lv9ucMRfRTzqtjdasaqLaEJye6xFp'"
      ]
     },
     "metadata": {},
     "execution_count": 14
    }
   ],
   "source": [
    "priv_key =\"cNpcyt6bBwsVR5PtBPU3myYzHm8bgJe1dKkqz4BoaAPWEYPF1gQn\"\n",
    "address = priv_key_to_account(BTCTEST,priv_key)\n",
    "address"
   ]
  },
  {
   "cell_type": "code",
   "execution_count": 15,
   "metadata": {},
   "outputs": [
    {
     "output_type": "execute_result",
     "data": {
      "text/plain": [
       "str"
      ]
     },
     "metadata": {},
     "execution_count": 15
    }
   ],
   "source": [
    "type(address)"
   ]
  },
  {
   "cell_type": "code",
   "execution_count": 17,
   "metadata": {},
   "outputs": [],
   "source": [
    "def create_tx(sender_acc_priv_key,recipient_address,amount,coin):\n",
    "    if coin==BTCTEST:\n",
    "        my_key_testnet = PrivateKeyTestnet(sender_acc_priv_key)\n",
    "        outputs3 = [(recipient_address, amount, 'btc')]\n",
    "        my_address_to_display = priv_key_to_account(BTCTEST,sender_acc_priv_key)\n",
    "        print( my_address_to_display)\n",
    "        wrap_prep_tx = my_key_testnet.prepare_transaction(my_address_to_display,outputs=outputs3)\n",
    "        tx_hex=my_key_testnet.sign_transaction(wrap_prep_tx)\n",
    "        return tx_hex"
   ]
  },
  {
   "cell_type": "code",
   "execution_count": 18,
   "metadata": {},
   "outputs": [
    {
     "output_type": "stream",
     "name": "stdout",
     "text": [
      "n24H3Lv9ucMRfRTzqtjdasaqLaEJye6xFp\n"
     ]
    }
   ],
   "source": [
    "recipient_address = 'mo5x1hXmBbFPyp8j5Jw4JhWtZhwPuo72xA'\n",
    "tx_num_3 = create_tx(priv_key,recipient_address,0.00003,BTCTEST)"
   ]
  },
  {
   "cell_type": "code",
   "execution_count": 19,
   "metadata": {},
   "outputs": [
    {
     "output_type": "stream",
     "name": "stdout",
     "text": [
      "01000000010d53265a02a935d5d7d162c29004c20faf11b5aaa678e864d72dc70c10903184010000006b483045022100c439e4a1bd034edc443221e155c3c9279a54614906cce4204445b1253e4b730c02207921043c4e4ca7639477f6bfad5faf454b8fe3cea3fe175446189ef4367f57310121027fef5b69b03129c72be2bd913cd7d68ec7aa7dc264abc7dcb61a1424bdb18de7ffffffff02b80b0000000000001976a91453065f3158738c5946bca7db3d8974450b87a56188ac0c610000000000001976a914e14f0f269e862d4bf45c4c3e03e803a60fa0f6e388ac00000000\n"
     ]
    }
   ],
   "source": [
    "print(tx_num_3)"
   ]
  },
  {
   "cell_type": "code",
   "execution_count": 20,
   "metadata": {},
   "outputs": [],
   "source": [
    "NetworkAPI.broadcast_tx_testnet(tx_num_3)"
   ]
  },
  {
   "cell_type": "code",
   "execution_count": 21,
   "metadata": {},
   "outputs": [
    {
     "output_type": "execute_result",
     "data": {
      "text/plain": [
       "'0.00006'"
      ]
     },
     "metadata": {},
     "execution_count": 21
    }
   ],
   "source": [
    "rec_address_balance = PrivateKeyTestnet(\"cPxACwqy6ENY72Z9a2FAfsiJkpTKEaVZRU4XSJ3XSKa9zu9eeh1g\")\n",
    "rec_address_balance.get_balance('btc')"
   ]
  },
  {
   "cell_type": "code",
   "execution_count": 22,
   "metadata": {},
   "outputs": [
    {
     "output_type": "execute_result",
     "data": {
      "text/plain": [
       "['74d7b4a9b9790827a269edbe5e678ba867175b9af072ca5e70d795f0093d11de',\n",
       " '843190100cc72dd764e878a6aab511af0fc20490c262d1d7d535a9025a26530d',\n",
       " '0f0a113b007a407192f0f93a9d49692b2327ead1758e70b3e375d13c0a4e7298']"
      ]
     },
     "metadata": {},
     "execution_count": 22
    }
   ],
   "source": [
    "rec_address_balance.get_transactions()"
   ]
  },
  {
   "cell_type": "code",
   "execution_count": 27,
   "metadata": {},
   "outputs": [
    {
     "output_type": "execute_result",
     "data": {
      "text/plain": [
       "'74d7b4a9b9790827a269edbe5e678ba867175b9af072ca5e70d795f0093d11de'"
      ]
     },
     "metadata": {},
     "execution_count": 27
    }
   ],
   "source": [
    "sender_address_tx = PrivateKeyTestnet(\"cNpcyt6bBwsVR5PtBPU3myYzHm8bgJe1dKkqz4BoaAPWEYPF1gQn\").get_transactions()\n",
    "sender_address_tx[0]"
   ]
  },
  {
   "cell_type": "code",
   "execution_count": 41,
   "metadata": {},
   "outputs": [],
   "source": [
    "def send_tx(sender_acc_priv_key,recipient_address,amount,coin):\n",
    "    \"\"\"\n",
    "    This function is to send cryptos from cold wallet\n",
    "    \"\"\"\n",
    "    if coin==BTCTEST:\n",
    "        prep_tx = create_tx(sender_acc_priv_key,recipient_address,amount,coin)\n",
    "        NetworkAPI.broadcast_tx_testnet(prep_tx)\n",
    "        sender_address_tx = PrivateKeyTestnet(sender_acc_priv_key).get_transactions()\n",
    "        \n",
    "    if coin==ETH:\n",
    "        tx = create_tx(coin,account,recipient_address, amount)\n",
    "        signed_tx = account.sign_transaction(tx)\n",
    "        result = w3.eth.sendRawTransaction(signed_tx.rawTransaction)\n",
    "        return result.hex()\n",
    "\n",
    "    send_succ_message = 1\n",
    "    print(amount, coin, \"transaction successful\")\n",
    "    return send_succ_message\n",
    "    "
   ]
  },
  {
   "cell_type": "code",
   "execution_count": 34,
   "metadata": {},
   "outputs": [
    {
     "output_type": "stream",
     "name": "stdout",
     "text": [
      "n24H3Lv9ucMRfRTzqtjdasaqLaEJye6xFp\n"
     ]
    },
    {
     "output_type": "error",
     "ename": "InsufficientFunds",
     "evalue": "Balance 792 is less than 24052 (including fee).",
     "traceback": [
      "\u001b[1;31m---------------------------------------------------------------------------\u001b[0m",
      "\u001b[1;31mInsufficientFunds\u001b[0m                         Traceback (most recent call last)",
      "\u001b[1;32m<ipython-input-34-d8aead1da39d>\u001b[0m in \u001b[0;36m<module>\u001b[1;34m\u001b[0m\n\u001b[0;32m      2\u001b[0m \u001b[1;33m\u001b[0m\u001b[0m\n\u001b[0;32m      3\u001b[0m \u001b[0mjex_address\u001b[0m\u001b[1;33m=\u001b[0m\u001b[1;34m'mtPmx4yYaei35kJDQsJT51wvjR5ECTy5SD'\u001b[0m\u001b[1;33m\u001b[0m\u001b[1;33m\u001b[0m\u001b[0m\n\u001b[1;32m----> 4\u001b[1;33m \u001b[0msend_tx\u001b[0m\u001b[1;33m(\u001b[0m\u001b[0mpriv_key\u001b[0m\u001b[1;33m,\u001b[0m\u001b[0mjex_address\u001b[0m\u001b[1;33m,\u001b[0m\u001b[1;36m0.00001\u001b[0m\u001b[1;33m,\u001b[0m\u001b[0mBTCTEST\u001b[0m\u001b[1;33m)\u001b[0m\u001b[1;33m\u001b[0m\u001b[1;33m\u001b[0m\u001b[0m\n\u001b[0m",
      "\u001b[1;32m<ipython-input-32-4a131d227a7a>\u001b[0m in \u001b[0;36msend_tx\u001b[1;34m(sender_acc_priv_key, recipient_address, amount, coin)\u001b[0m\n\u001b[0;32m      4\u001b[0m     \"\"\"\n\u001b[0;32m      5\u001b[0m     \u001b[1;32mif\u001b[0m \u001b[0mcoin\u001b[0m\u001b[1;33m==\u001b[0m\u001b[0mBTCTEST\u001b[0m\u001b[1;33m:\u001b[0m\u001b[1;33m\u001b[0m\u001b[1;33m\u001b[0m\u001b[0m\n\u001b[1;32m----> 6\u001b[1;33m         \u001b[0mprep_tx\u001b[0m \u001b[1;33m=\u001b[0m \u001b[0mcreate_tx\u001b[0m\u001b[1;33m(\u001b[0m\u001b[0msender_acc_priv_key\u001b[0m\u001b[1;33m,\u001b[0m\u001b[0mrecipient_address\u001b[0m\u001b[1;33m,\u001b[0m\u001b[0mamount\u001b[0m\u001b[1;33m,\u001b[0m\u001b[0mcoin\u001b[0m\u001b[1;33m)\u001b[0m\u001b[1;33m\u001b[0m\u001b[1;33m\u001b[0m\u001b[0m\n\u001b[0m\u001b[0;32m      7\u001b[0m         \u001b[0mNetworkAPI\u001b[0m\u001b[1;33m.\u001b[0m\u001b[0mbroadcast_tx_testnet\u001b[0m\u001b[1;33m(\u001b[0m\u001b[0mprep_tx\u001b[0m\u001b[1;33m)\u001b[0m\u001b[1;33m\u001b[0m\u001b[1;33m\u001b[0m\u001b[0m\n\u001b[0;32m      8\u001b[0m         \u001b[0msender_address_tx\u001b[0m \u001b[1;33m=\u001b[0m \u001b[0mPrivateKeyTestnet\u001b[0m\u001b[1;33m(\u001b[0m\u001b[0msender_acc_priv_key\u001b[0m\u001b[1;33m)\u001b[0m\u001b[1;33m.\u001b[0m\u001b[0mget_transactions\u001b[0m\u001b[1;33m(\u001b[0m\u001b[1;33m)\u001b[0m\u001b[1;33m\u001b[0m\u001b[1;33m\u001b[0m\u001b[0m\n",
      "\u001b[1;32m<ipython-input-17-1c234d1fca29>\u001b[0m in \u001b[0;36mcreate_tx\u001b[1;34m(sender_acc_priv_key, recipient_address, amount, coin)\u001b[0m\n\u001b[0;32m      5\u001b[0m         \u001b[0mmy_address_to_display\u001b[0m \u001b[1;33m=\u001b[0m \u001b[0mpriv_key_to_account\u001b[0m\u001b[1;33m(\u001b[0m\u001b[0mBTCTEST\u001b[0m\u001b[1;33m,\u001b[0m\u001b[0msender_acc_priv_key\u001b[0m\u001b[1;33m)\u001b[0m\u001b[1;33m\u001b[0m\u001b[1;33m\u001b[0m\u001b[0m\n\u001b[0;32m      6\u001b[0m         \u001b[0mprint\u001b[0m\u001b[1;33m(\u001b[0m \u001b[0mmy_address_to_display\u001b[0m\u001b[1;33m)\u001b[0m\u001b[1;33m\u001b[0m\u001b[1;33m\u001b[0m\u001b[0m\n\u001b[1;32m----> 7\u001b[1;33m         \u001b[0mwrap_prep_tx\u001b[0m \u001b[1;33m=\u001b[0m \u001b[0mmy_key_testnet\u001b[0m\u001b[1;33m.\u001b[0m\u001b[0mprepare_transaction\u001b[0m\u001b[1;33m(\u001b[0m\u001b[0mmy_address_to_display\u001b[0m\u001b[1;33m,\u001b[0m\u001b[0moutputs\u001b[0m\u001b[1;33m=\u001b[0m\u001b[0moutputs3\u001b[0m\u001b[1;33m)\u001b[0m\u001b[1;33m\u001b[0m\u001b[1;33m\u001b[0m\u001b[0m\n\u001b[0m\u001b[0;32m      8\u001b[0m         \u001b[0mtx_hex\u001b[0m\u001b[1;33m=\u001b[0m\u001b[0mmy_key_testnet\u001b[0m\u001b[1;33m.\u001b[0m\u001b[0msign_transaction\u001b[0m\u001b[1;33m(\u001b[0m\u001b[0mwrap_prep_tx\u001b[0m\u001b[1;33m)\u001b[0m\u001b[1;33m\u001b[0m\u001b[1;33m\u001b[0m\u001b[0m\n\u001b[0;32m      9\u001b[0m         \u001b[1;32mreturn\u001b[0m \u001b[0mtx_hex\u001b[0m\u001b[1;33m\u001b[0m\u001b[1;33m\u001b[0m\u001b[0m\n",
      "\u001b[1;32m~\\anaconda3\\envs\\ethereum\\lib\\site-packages\\bit\\wallet.py\u001b[0m in \u001b[0;36mprepare_transaction\u001b[1;34m(cls, address, outputs, compressed, fee, absolute_fee, leftover, combine, message, unspents, message_is_hex, replace_by_fee)\u001b[0m\n\u001b[0;32m    850\u001b[0m             \u001b[0mversion\u001b[0m\u001b[1;33m=\u001b[0m\u001b[1;34m'test'\u001b[0m\u001b[1;33m,\u001b[0m\u001b[1;33m\u001b[0m\u001b[1;33m\u001b[0m\u001b[0m\n\u001b[0;32m    851\u001b[0m             \u001b[0mmessage_is_hex\u001b[0m\u001b[1;33m=\u001b[0m\u001b[0mmessage_is_hex\u001b[0m\u001b[1;33m,\u001b[0m\u001b[1;33m\u001b[0m\u001b[1;33m\u001b[0m\u001b[0m\n\u001b[1;32m--> 852\u001b[1;33m             \u001b[0mreplace_by_fee\u001b[0m\u001b[1;33m=\u001b[0m\u001b[0mreplace_by_fee\u001b[0m\u001b[1;33m\u001b[0m\u001b[1;33m\u001b[0m\u001b[0m\n\u001b[0m\u001b[0;32m    853\u001b[0m         )\n\u001b[0;32m    854\u001b[0m \u001b[1;33m\u001b[0m\u001b[0m\n",
      "\u001b[1;32m~\\anaconda3\\envs\\ethereum\\lib\\site-packages\\bit\\transaction.py\u001b[0m in \u001b[0;36msanitize_tx_data\u001b[1;34m(unspents, outputs, fee, leftover, combine, message, compressed, absolute_fee, min_change, version, message_is_hex, replace_by_fee)\u001b[0m\n\u001b[0;32m    432\u001b[0m         \u001b[0mabsolute_fee\u001b[0m\u001b[1;33m=\u001b[0m\u001b[0mabsolute_fee\u001b[0m\u001b[1;33m,\u001b[0m\u001b[1;33m\u001b[0m\u001b[1;33m\u001b[0m\u001b[0m\n\u001b[0;32m    433\u001b[0m         \u001b[0mconsolidate\u001b[0m\u001b[1;33m=\u001b[0m\u001b[0mcombine\u001b[0m\u001b[1;33m,\u001b[0m\u001b[1;33m\u001b[0m\u001b[1;33m\u001b[0m\u001b[0m\n\u001b[1;32m--> 434\u001b[1;33m         \u001b[0munspents\u001b[0m\u001b[1;33m=\u001b[0m\u001b[0munspents\u001b[0m\u001b[1;33m,\u001b[0m\u001b[1;33m\u001b[0m\u001b[1;33m\u001b[0m\u001b[0m\n\u001b[0m\u001b[0;32m    435\u001b[0m     )\n\u001b[0;32m    436\u001b[0m \u001b[1;33m\u001b[0m\u001b[0m\n",
      "\u001b[1;32m~\\anaconda3\\envs\\ethereum\\lib\\site-packages\\bit\\transaction.py\u001b[0m in \u001b[0;36mselect_coins\u001b[1;34m(target, fee, output_size, min_change, absolute_fee, consolidate, unspents)\u001b[0m\n\u001b[0;32m    326\u001b[0m             raise InsufficientFunds(\n\u001b[0;32m    327\u001b[0m                 \u001b[1;34m'Balance {} is less than {} (including '\u001b[0m\u001b[1;33m\u001b[0m\u001b[1;33m\u001b[0m\u001b[0m\n\u001b[1;32m--> 328\u001b[1;33m                 \u001b[1;34m'fee).'\u001b[0m\u001b[1;33m.\u001b[0m\u001b[0mformat\u001b[0m\u001b[1;33m(\u001b[0m\u001b[0msum\u001b[0m\u001b[1;33m(\u001b[0m\u001b[0mu\u001b[0m\u001b[1;33m.\u001b[0m\u001b[0mamount\u001b[0m \u001b[1;32mfor\u001b[0m \u001b[0mu\u001b[0m \u001b[1;32min\u001b[0m \u001b[0mselected_coins\u001b[0m\u001b[1;33m)\u001b[0m\u001b[1;33m,\u001b[0m \u001b[0mtarget\u001b[0m \u001b[1;33m+\u001b[0m \u001b[0mmin_change\u001b[0m \u001b[1;33m+\u001b[0m \u001b[0mestimated_fee\u001b[0m\u001b[1;33m)\u001b[0m\u001b[1;33m\u001b[0m\u001b[1;33m\u001b[0m\u001b[0m\n\u001b[0m\u001b[0;32m    329\u001b[0m             )\n\u001b[0;32m    330\u001b[0m \u001b[1;33m\u001b[0m\u001b[0m\n",
      "\u001b[1;31mInsufficientFunds\u001b[0m: Balance 792 is less than 24052 (including fee)."
     ]
    }
   ],
   "source": [
    "# send money to Jexi\n",
    "\n",
    "jex_address='mtPmx4yYaei35kJDQsJT51wvjR5ECTy5SD'\n",
    "send_tx(priv_key,jex_address,0.00001,BTCTEST)"
   ]
  },
  {
   "cell_type": "code",
   "execution_count": 36,
   "metadata": {},
   "outputs": [
    {
     "output_type": "execute_result",
     "data": {
      "text/plain": [
       "'792'"
      ]
     },
     "metadata": {},
     "execution_count": 36
    }
   ],
   "source": [
    "sender_address_tx = PrivateKeyTestnet(\"cNpcyt6bBwsVR5PtBPU3myYzHm8bgJe1dKkqz4BoaAPWEYPF1gQn\").get_balance()\n",
    "sender_address_tx"
   ]
  },
  {
   "cell_type": "code",
   "execution_count": 31,
   "metadata": {},
   "outputs": [
    {
     "output_type": "execute_result",
     "data": {
      "text/plain": [
       "['f0efd497d3fc6b391de8d21475b4a7fb3af42cdf553aeb1a4326ce528883b4a7',\n",
       " '74d7b4a9b9790827a269edbe5e678ba867175b9af072ca5e70d795f0093d11de',\n",
       " '843190100cc72dd764e878a6aab511af0fc20490c262d1d7d535a9025a26530d',\n",
       " '0f0a113b007a407192f0f93a9d49692b2327ead1758e70b3e375d13c0a4e7298',\n",
       " 'f1bcbedd5fc3bfe8cc53404939e66e79e2e9220cf758f127b4d4ae34c2e957a3']"
      ]
     },
     "metadata": {},
     "execution_count": 31
    }
   ],
   "source": [
    "sender_address_tx = PrivateKeyTestnet(\"cNpcyt6bBwsVR5PtBPU3myYzHm8bgJe1dKkqz4BoaAPWEYPF1gQn\").get_transactions()\n",
    "sender_address_tx"
   ]
  },
  {
   "cell_type": "code",
   "execution_count": 37,
   "metadata": {},
   "outputs": [
    {
     "output_type": "stream",
     "name": "stdout",
     "text": [
      "mh42D47zZ5sAYBZeUKQw5yc4jPVHq9Kd1g\n",
      "txid:  88c3f9180fb35b6fb58a608fb6456b3bb9886e41d6bed907454f4befc67fb2fb\n"
     ]
    },
    {
     "output_type": "execute_result",
     "data": {
      "text/plain": [
       "'88c3f9180fb35b6fb58a608fb6456b3bb9886e41d6bed907454f4befc67fb2fb'"
      ]
     },
     "metadata": {},
     "execution_count": 37
    }
   ],
   "source": [
    "priv_key_2 = 'cNtNRuDWJcJfYxGZ8GCJVjq7xGzQ1gokMkALQuow3Wx3vvs7Z2Az'\n",
    "send_tx(priv_key_2,jex_address,0.00001,BTCTEST)"
   ]
  },
  {
   "cell_type": "code",
   "execution_count": 39,
   "metadata": {},
   "outputs": [
    {
     "output_type": "execute_result",
     "data": {
      "text/plain": [
       "['d3168bf4cf5c858303ef100a208cc15bf5a9e3dcb4b9f1deb315db848f84a500',\n",
       " '88c3f9180fb35b6fb58a608fb6456b3bb9886e41d6bed907454f4befc67fb2fb']"
      ]
     },
     "metadata": {},
     "execution_count": 39
    }
   ],
   "source": [
    "sender_address_tx = PrivateKeyTestnet(\"cNtNRuDWJcJfYxGZ8GCJVjq7xGzQ1gokMkALQuow3Wx3vvs7Z2Az\").get_transactions()\n",
    "sender_address_tx"
   ]
  },
  {
   "cell_type": "code",
   "execution_count": 48,
   "metadata": {},
   "outputs": [],
   "source": [
    "import time"
   ]
  },
  {
   "cell_type": "code",
   "execution_count": 52,
   "metadata": {},
   "outputs": [],
   "source": [
    "\n",
    "def tx_id (sender_acc_priv_key,recipient_address,amount,coin):\n",
    "    send_message_succ = send_tx(sender_acc_priv_key,recipient_address,amount,coin)\n",
    "    if send_message_succ==1:\n",
    "        time.sleep(20)\n",
    "        sender_address_tx = PrivateKeyTestnet(\"cNtNRuDWJcJfYxGZ8GCJVjq7xGzQ1gokMkALQuow3Wx3vvs7Z2Az\").get_transactions()\n",
    "        last_transac = sender_address_tx[0]\n",
    "        return last_transac\n",
    "    else:\n",
    "        print(\"transaction failed\")\n",
    "    \n"
   ]
  },
  {
   "cell_type": "code",
   "execution_count": 50,
   "metadata": {},
   "outputs": [
    {
     "output_type": "stream",
     "name": "stdout",
     "text": [
      "mh42D47zZ5sAYBZeUKQw5yc4jPVHq9Kd1g\n",
      "3e-05 btc-test transaction successful\n"
     ]
    },
    {
     "output_type": "execute_result",
     "data": {
      "text/plain": [
       "'d811fff94bd24806ed727faff5b7e8f9651b82258ea0ae283c5f21bde94d991a'"
      ]
     },
     "metadata": {},
     "execution_count": 50
    }
   ],
   "source": [
    "tx_id(priv_key_2, 'mo5x1hXmBbFPyp8j5Jw4JhWtZhwPuo72xA', 0.00003, BTCTEST)"
   ]
  },
  {
   "cell_type": "code",
   "execution_count": 51,
   "metadata": {},
   "outputs": [
    {
     "output_type": "execute_result",
     "data": {
      "text/plain": [
       "['d811fff94bd24806ed727faff5b7e8f9651b82258ea0ae283c5f21bde94d991a',\n",
       " 'ae48c6da2bda3194bb3fc058ebebcd9020a7a2d7854853c501608fe4dba53659',\n",
       " 'f1eebe5c34af85b8eaf6f622d9b5db3bcc3dd105615af7bbb77398af0b8398eb',\n",
       " 'd3168bf4cf5c858303ef100a208cc15bf5a9e3dcb4b9f1deb315db848f84a500',\n",
       " '88c3f9180fb35b6fb58a608fb6456b3bb9886e41d6bed907454f4befc67fb2fb']"
      ]
     },
     "metadata": {},
     "execution_count": 51
    }
   ],
   "source": [
    "sender_address_tx = PrivateKeyTestnet(\"cNtNRuDWJcJfYxGZ8GCJVjq7xGzQ1gokMkALQuow3Wx3vvs7Z2Az\").get_transactions()\n",
    "sender_address_tx"
   ]
  },
  {
   "cell_type": "code",
   "execution_count": null,
   "metadata": {},
   "outputs": [],
   "source": []
  }
 ]
}